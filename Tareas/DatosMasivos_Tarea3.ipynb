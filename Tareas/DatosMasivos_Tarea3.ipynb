{
  "nbformat": 4,
  "nbformat_minor": 0,
  "metadata": {
    "colab": {
      "provenance": [],
      "authorship_tag": "ABX9TyOm0AVEo6aXxC4B59u+BjSA",
      "include_colab_link": true
    },
    "kernelspec": {
      "name": "python3",
      "display_name": "Python 3"
    },
    "language_info": {
      "name": "python"
    }
  },
  "cells": [
    {
      "cell_type": "markdown",
      "metadata": {
        "id": "view-in-github",
        "colab_type": "text"
      },
      "source": [
        "<a href=\"https://colab.research.google.com/github/jsaulme/Datos_Masivos_2024/blob/main/Tareas/DatosMasivos_Tarea3.ipynb\" target=\"_parent\"><img src=\"https://colab.research.google.com/assets/colab-badge.svg\" alt=\"Open In Colab\"/></a>"
      ]
    },
    {
      "cell_type": "code",
      "execution_count": 1,
      "metadata": {
        "colab": {
          "base_uri": "https://localhost:8080/"
        },
        "id": "bZrHXOffx9Fn",
        "outputId": "c332108e-2b95-4886-9765-ede5e52fa548"
      },
      "outputs": [
        {
          "output_type": "stream",
          "name": "stdout",
          "text": [
            "Requirement already satisfied: pyspark in /usr/local/lib/python3.10/dist-packages (3.5.3)\n",
            "Requirement already satisfied: py4j==0.10.9.7 in /usr/local/lib/python3.10/dist-packages (from pyspark) (0.10.9.7)\n"
          ]
        }
      ],
      "source": [
        "pip install pyspark"
      ]
    },
    {
      "cell_type": "code",
      "source": [
        "import pyspark\n",
        "print(pyspark.__version__)"
      ],
      "metadata": {
        "colab": {
          "base_uri": "https://localhost:8080/"
        },
        "id": "yP8p-q-lyCts",
        "outputId": "36351cca-b17a-441a-9469-90e284f00ef4"
      },
      "execution_count": 2,
      "outputs": [
        {
          "output_type": "stream",
          "name": "stdout",
          "text": [
            "3.5.3\n"
          ]
        }
      ]
    },
    {
      "cell_type": "code",
      "source": [
        "pip install findspark"
      ],
      "metadata": {
        "colab": {
          "base_uri": "https://localhost:8080/"
        },
        "id": "YmZJFWQIzBgp",
        "outputId": "02dd86d5-652e-408f-bbcc-4af2245772d8"
      },
      "execution_count": 3,
      "outputs": [
        {
          "output_type": "stream",
          "name": "stdout",
          "text": [
            "Collecting findspark\n",
            "  Downloading findspark-2.0.1-py2.py3-none-any.whl.metadata (352 bytes)\n",
            "Downloading findspark-2.0.1-py2.py3-none-any.whl (4.4 kB)\n",
            "Installing collected packages: findspark\n",
            "Successfully installed findspark-2.0.1\n"
          ]
        }
      ]
    },
    {
      "cell_type": "code",
      "source": [
        "# Variables para la version de Spark y Hadoop\n",
        "SPARK_VERSION=\"3.2.1\"\n",
        "HADOOP_VERSION=\"3.2\"\n",
        "\n",
        "# Actualizar los paquetes del sistema\n",
        "!sudo apt update -qq\n",
        "\n",
        "# Instala OpenJDK8 requerido por Spark.\n",
        "!sudo apt-get install -y openjdk-8-jdk-headless -qq > /dev/null\n",
        "\n",
        "# Descarga Apache Spark\n",
        "!wget -q \"https://archive.apache.org/dist/spark/spark-$SPARK_VERSION/spark-$SPARK_VERSION-bin-hadoop$HADOOP_VERSION.tgz\"\n",
        "\n",
        "# Extraer el archivo descargado\n",
        "!tar -xf \"spark-$SPARK_VERSION-bin-hadoop$HADOOP_VERSION.tgz\"\n",
        "\n",
        "# Instalar findspark\n",
        "!pip install -q findspark\n",
        "\n",
        "# Instalamos PySpark\n",
        "!pip install -q pyspark\n",
        "\n",
        "# Actualizar los paquetes del sistema\n",
        "!sudo apt update -qq\n",
        "\n",
        "# Instala OpenJDK8 requerido por Spark.\n",
        "!sudo apt-get install -y openjdk-8-jdk-headless -qq > /dev/null\n",
        "\n",
        "# Descarga Apache Spark\n",
        "!wget -q \"https://archive.apache.org/dist/spark/spark-$SPARK_VERSION/spark-$SPARK_VERSION-bin-hadoop$HADOOP_VERSION.tgz\"\n",
        "\n",
        "# Extraer el archivo descargado\n",
        "!tar -xf \"spark-$SPARK_VERSION-bin-hadoop$HADOOP_VERSION.tgz\"\n",
        "\n",
        "# Instalar findspark\n",
        "!pip install -q findspark\n",
        "\n",
        "# Instalamos PySpark\n",
        "!pip install -q pyspark"
      ],
      "metadata": {
        "colab": {
          "base_uri": "https://localhost:8080/"
        },
        "id": "T9xx54zKzHwU",
        "outputId": "c9499374-c868-4cc1-cc93-1631845ed33d"
      },
      "execution_count": 6,
      "outputs": [
        {
          "output_type": "stream",
          "name": "stdout",
          "text": [
            "57 packages can be upgraded. Run 'apt list --upgradable' to see them.\n",
            "\u001b[1;33mW: \u001b[0mSkipping acquire of configured file 'main/source/Sources' as repository 'https://r2u.stat.illinois.edu/ubuntu jammy InRelease' does not seem to provide it (sources.list entry misspelt?)\u001b[0m\n",
            "tar: spark--bin-hadoop.tgz: Cannot open: No such file or directory\n",
            "tar: Error is not recoverable: exiting now\n",
            "57 packages can be upgraded. Run 'apt list --upgradable' to see them.\n",
            "\u001b[1;33mW: \u001b[0mSkipping acquire of configured file 'main/source/Sources' as repository 'https://r2u.stat.illinois.edu/ubuntu jammy InRelease' does not seem to provide it (sources.list entry misspelt?)\u001b[0m\n",
            "tar: spark--bin-hadoop.tgz: Cannot open: No such file or directory\n",
            "tar: Error is not recoverable: exiting now\n"
          ]
        }
      ]
    },
    {
      "source": [
        "from pyspark.sql import SparkSession\n",
        "spark = SparkSession.builder \\\n",
        "               .appName('dataframes') \\\n",
        "               .getOrCreate()"
      ],
      "cell_type": "code",
      "metadata": {
        "id": "OwDdSLrJBqOM"
      },
      "execution_count": 13,
      "outputs": []
    },
    {
      "cell_type": "code",
      "source": [
        "pip install datasets"
      ],
      "metadata": {
        "colab": {
          "base_uri": "https://localhost:8080/"
        },
        "id": "oOx_QN0SGXWt",
        "outputId": "cd22e0a3-3b9c-4367-e760-4874b56a897f"
      },
      "execution_count": 14,
      "outputs": [
        {
          "output_type": "stream",
          "name": "stdout",
          "text": [
            "Collecting datasets\n",
            "  Downloading datasets-3.1.0-py3-none-any.whl.metadata (20 kB)\n",
            "Requirement already satisfied: filelock in /usr/local/lib/python3.10/dist-packages (from datasets) (3.16.1)\n",
            "Requirement already satisfied: numpy>=1.17 in /usr/local/lib/python3.10/dist-packages (from datasets) (1.26.4)\n",
            "Requirement already satisfied: pyarrow>=15.0.0 in /usr/local/lib/python3.10/dist-packages (from datasets) (17.0.0)\n",
            "Collecting dill<0.3.9,>=0.3.0 (from datasets)\n",
            "  Downloading dill-0.3.8-py3-none-any.whl.metadata (10 kB)\n",
            "Requirement already satisfied: pandas in /usr/local/lib/python3.10/dist-packages (from datasets) (2.2.2)\n",
            "Requirement already satisfied: requests>=2.32.2 in /usr/local/lib/python3.10/dist-packages (from datasets) (2.32.3)\n",
            "Requirement already satisfied: tqdm>=4.66.3 in /usr/local/lib/python3.10/dist-packages (from datasets) (4.66.6)\n",
            "Collecting xxhash (from datasets)\n",
            "  Downloading xxhash-3.5.0-cp310-cp310-manylinux_2_17_x86_64.manylinux2014_x86_64.whl.metadata (12 kB)\n",
            "Collecting multiprocess<0.70.17 (from datasets)\n",
            "  Downloading multiprocess-0.70.16-py310-none-any.whl.metadata (7.2 kB)\n",
            "Collecting fsspec<=2024.9.0,>=2023.1.0 (from fsspec[http]<=2024.9.0,>=2023.1.0->datasets)\n",
            "  Downloading fsspec-2024.9.0-py3-none-any.whl.metadata (11 kB)\n",
            "Requirement already satisfied: aiohttp in /usr/local/lib/python3.10/dist-packages (from datasets) (3.11.2)\n",
            "Requirement already satisfied: huggingface-hub>=0.23.0 in /usr/local/lib/python3.10/dist-packages (from datasets) (0.26.2)\n",
            "Requirement already satisfied: packaging in /usr/local/lib/python3.10/dist-packages (from datasets) (24.2)\n",
            "Requirement already satisfied: pyyaml>=5.1 in /usr/local/lib/python3.10/dist-packages (from datasets) (6.0.2)\n",
            "Requirement already satisfied: aiohappyeyeballs>=2.3.0 in /usr/local/lib/python3.10/dist-packages (from aiohttp->datasets) (2.4.3)\n",
            "Requirement already satisfied: aiosignal>=1.1.2 in /usr/local/lib/python3.10/dist-packages (from aiohttp->datasets) (1.3.1)\n",
            "Requirement already satisfied: attrs>=17.3.0 in /usr/local/lib/python3.10/dist-packages (from aiohttp->datasets) (24.2.0)\n",
            "Requirement already satisfied: frozenlist>=1.1.1 in /usr/local/lib/python3.10/dist-packages (from aiohttp->datasets) (1.5.0)\n",
            "Requirement already satisfied: multidict<7.0,>=4.5 in /usr/local/lib/python3.10/dist-packages (from aiohttp->datasets) (6.1.0)\n",
            "Requirement already satisfied: propcache>=0.2.0 in /usr/local/lib/python3.10/dist-packages (from aiohttp->datasets) (0.2.0)\n",
            "Requirement already satisfied: yarl<2.0,>=1.17.0 in /usr/local/lib/python3.10/dist-packages (from aiohttp->datasets) (1.17.2)\n",
            "Requirement already satisfied: async-timeout<6.0,>=4.0 in /usr/local/lib/python3.10/dist-packages (from aiohttp->datasets) (4.0.3)\n",
            "Requirement already satisfied: typing-extensions>=3.7.4.3 in /usr/local/lib/python3.10/dist-packages (from huggingface-hub>=0.23.0->datasets) (4.12.2)\n",
            "Requirement already satisfied: charset-normalizer<4,>=2 in /usr/local/lib/python3.10/dist-packages (from requests>=2.32.2->datasets) (3.4.0)\n",
            "Requirement already satisfied: idna<4,>=2.5 in /usr/local/lib/python3.10/dist-packages (from requests>=2.32.2->datasets) (3.10)\n",
            "Requirement already satisfied: urllib3<3,>=1.21.1 in /usr/local/lib/python3.10/dist-packages (from requests>=2.32.2->datasets) (2.2.3)\n",
            "Requirement already satisfied: certifi>=2017.4.17 in /usr/local/lib/python3.10/dist-packages (from requests>=2.32.2->datasets) (2024.8.30)\n",
            "Requirement already satisfied: python-dateutil>=2.8.2 in /usr/local/lib/python3.10/dist-packages (from pandas->datasets) (2.8.2)\n",
            "Requirement already satisfied: pytz>=2020.1 in /usr/local/lib/python3.10/dist-packages (from pandas->datasets) (2024.2)\n",
            "Requirement already satisfied: tzdata>=2022.7 in /usr/local/lib/python3.10/dist-packages (from pandas->datasets) (2024.2)\n",
            "Requirement already satisfied: six>=1.5 in /usr/local/lib/python3.10/dist-packages (from python-dateutil>=2.8.2->pandas->datasets) (1.16.0)\n",
            "Downloading datasets-3.1.0-py3-none-any.whl (480 kB)\n",
            "\u001b[2K   \u001b[90m━━━━━━━━━━━━━━━━━━━━━━━━━━━━━━━━━━━━━━━━\u001b[0m \u001b[32m480.6/480.6 kB\u001b[0m \u001b[31m8.3 MB/s\u001b[0m eta \u001b[36m0:00:00\u001b[0m\n",
            "\u001b[?25hDownloading dill-0.3.8-py3-none-any.whl (116 kB)\n",
            "\u001b[2K   \u001b[90m━━━━━━━━━━━━━━━━━━━━━━━━━━━━━━━━━━━━━━━━\u001b[0m \u001b[32m116.3/116.3 kB\u001b[0m \u001b[31m11.1 MB/s\u001b[0m eta \u001b[36m0:00:00\u001b[0m\n",
            "\u001b[?25hDownloading fsspec-2024.9.0-py3-none-any.whl (179 kB)\n",
            "\u001b[2K   \u001b[90m━━━━━━━━━━━━━━━━━━━━━━━━━━━━━━━━━━━━━━━━\u001b[0m \u001b[32m179.3/179.3 kB\u001b[0m \u001b[31m15.5 MB/s\u001b[0m eta \u001b[36m0:00:00\u001b[0m\n",
            "\u001b[?25hDownloading multiprocess-0.70.16-py310-none-any.whl (134 kB)\n",
            "\u001b[2K   \u001b[90m━━━━━━━━━━━━━━━━━━━━━━━━━━━━━━━━━━━━━━━━\u001b[0m \u001b[32m134.8/134.8 kB\u001b[0m \u001b[31m12.5 MB/s\u001b[0m eta \u001b[36m0:00:00\u001b[0m\n",
            "\u001b[?25hDownloading xxhash-3.5.0-cp310-cp310-manylinux_2_17_x86_64.manylinux2014_x86_64.whl (194 kB)\n",
            "\u001b[2K   \u001b[90m━━━━━━━━━━━━━━━━━━━━━━━━━━━━━━━━━━━━━━━━\u001b[0m \u001b[32m194.1/194.1 kB\u001b[0m \u001b[31m15.9 MB/s\u001b[0m eta \u001b[36m0:00:00\u001b[0m\n",
            "\u001b[?25hInstalling collected packages: xxhash, fsspec, dill, multiprocess, datasets\n",
            "  Attempting uninstall: fsspec\n",
            "    Found existing installation: fsspec 2024.10.0\n",
            "    Uninstalling fsspec-2024.10.0:\n",
            "      Successfully uninstalled fsspec-2024.10.0\n",
            "\u001b[31mERROR: pip's dependency resolver does not currently take into account all the packages that are installed. This behaviour is the source of the following dependency conflicts.\n",
            "gcsfs 2024.10.0 requires fsspec==2024.10.0, but you have fsspec 2024.9.0 which is incompatible.\u001b[0m\u001b[31m\n",
            "\u001b[0mSuccessfully installed datasets-3.1.0 dill-0.3.8 fsspec-2024.9.0 multiprocess-0.70.16 xxhash-3.5.0\n"
          ]
        }
      ]
    },
    {
      "source": [
        "from datasets import load_dataset\n",
        "from pyspark.sql import SparkSession\n",
        "\n",
        "# Create a Spark session\n",
        "spark = SparkSession.builder.appName(\"datasets_to_spark\").getOrCreate()\n",
        "\n",
        "# Load the dataset from Hugging Face\n",
        "dataset = load_dataset(\"sayanroy058/Business-Sales\")\n",
        "\n",
        "# Convert the dataset to a PySpark DataFrame\n",
        "pysparkDF = spark.createDataFrame(dataset['train']) # Assuming 'train' is the split you want\n",
        "\n",
        "# Display the first 5 rows\n",
        "spark_head = pysparkDF.limit(5).collect()\n",
        "\n",
        "# Print the result\n",
        "for row in spark_head:    print(row)"
      ],
      "cell_type": "code",
      "metadata": {
        "colab": {
          "base_uri": "https://localhost:8080/"
        },
        "id": "_B2aXXvtHPz9",
        "outputId": "ea095030-c26a-47ef-e343-24afaf9413bd"
      },
      "execution_count": 17,
      "outputs": [
        {
          "output_type": "stream",
          "name": "stdout",
          "text": [
            "Row(body='SUV', color='white', condition=5.0, interior='black', make='Kia', mmr=20500, model='Sorento', odometer=16639.0, saledate='Tue Dec 16 2014 12:30:00 GMT-0800 (PST)', seller='kia motors america  inc', sellingprice=21500, state='ca', transmission='automatic', trim='LX', vin='5xyktca69fg566472', year=2015)\n",
            "Row(body='SUV', color='white', condition=5.0, interior='beige', make='Kia', mmr=20800, model='Sorento', odometer=9393.0, saledate='Tue Dec 16 2014 12:30:00 GMT-0800 (PST)', seller='kia motors america  inc', sellingprice=21500, state='ca', transmission='automatic', trim='LX', vin='5xyktca69fg561319', year=2015)\n",
            "Row(body='Sedan', color='gray', condition=45.0, interior='black', make='BMW', mmr=31900, model='3 Series', odometer=1331.0, saledate='Thu Jan 15 2015 04:30:00 GMT-0800 (PST)', seller='financial services remarketing (lease)', sellingprice=30000, state='ca', transmission='automatic', trim='328i SULEV', vin='wba3c1c51ek116351', year=2014)\n",
            "Row(body='Sedan', color='white', condition=41.0, interior='black', make='Volvo', mmr=27500, model='S60', odometer=14282.0, saledate='Thu Jan 29 2015 04:30:00 GMT-0800 (PST)', seller='volvo na rep/world omni', sellingprice=27750, state='ca', transmission='automatic', trim='T5', vin='yv1612tb4f1310987', year=2015)\n",
            "Row(body='Sedan', color='gray', condition=43.0, interior='black', make='BMW', mmr=66000, model='6 Series Gran Coupe', odometer=2641.0, saledate='Thu Dec 18 2014 12:30:00 GMT-0800 (PST)', seller='financial services remarketing (lease)', sellingprice=67000, state='ca', transmission='automatic', trim='650i', vin='wba6b2c57ed129731', year=2014)\n"
          ]
        }
      ]
    },
    {
      "cell_type": "code",
      "source": [
        "# Imprimir el esquema del DataFrame\n",
        "pysparkDF.printSchema()\n",
        "\n",
        "# Mostrar las primeras 5 filas de forma tabular\n",
        "pysparkDF.show(5)"
      ],
      "metadata": {
        "colab": {
          "base_uri": "https://localhost:8080/"
        },
        "id": "aRPYlj7zIYrP",
        "outputId": "15bddbe2-7b1f-4ecf-92a8-520c3164b6a4"
      },
      "execution_count": 18,
      "outputs": [
        {
          "output_type": "stream",
          "name": "stdout",
          "text": [
            "root\n",
            " |-- body: string (nullable = true)\n",
            " |-- color: string (nullable = true)\n",
            " |-- condition: double (nullable = true)\n",
            " |-- interior: string (nullable = true)\n",
            " |-- make: string (nullable = true)\n",
            " |-- mmr: long (nullable = true)\n",
            " |-- model: string (nullable = true)\n",
            " |-- odometer: double (nullable = true)\n",
            " |-- saledate: string (nullable = true)\n",
            " |-- seller: string (nullable = true)\n",
            " |-- sellingprice: long (nullable = true)\n",
            " |-- state: string (nullable = true)\n",
            " |-- transmission: string (nullable = true)\n",
            " |-- trim: string (nullable = true)\n",
            " |-- vin: string (nullable = true)\n",
            " |-- year: long (nullable = true)\n",
            "\n",
            "+-----+-----+---------+--------+-----+-----+-------------------+--------+--------------------+--------------------+------------+-----+------------+----------+-----------------+----+\n",
            "| body|color|condition|interior| make|  mmr|              model|odometer|            saledate|              seller|sellingprice|state|transmission|      trim|              vin|year|\n",
            "+-----+-----+---------+--------+-----+-----+-------------------+--------+--------------------+--------------------+------------+-----+------------+----------+-----------------+----+\n",
            "|  SUV|white|      5.0|   black|  Kia|20500|            Sorento| 16639.0|Tue Dec 16 2014 1...|kia motors americ...|       21500|   ca|   automatic|        LX|5xyktca69fg566472|2015|\n",
            "|  SUV|white|      5.0|   beige|  Kia|20800|            Sorento|  9393.0|Tue Dec 16 2014 1...|kia motors americ...|       21500|   ca|   automatic|        LX|5xyktca69fg561319|2015|\n",
            "|Sedan| gray|     45.0|   black|  BMW|31900|           3 Series|  1331.0|Thu Jan 15 2015 0...|financial service...|       30000|   ca|   automatic|328i SULEV|wba3c1c51ek116351|2014|\n",
            "|Sedan|white|     41.0|   black|Volvo|27500|                S60| 14282.0|Thu Jan 29 2015 0...|volvo na rep/worl...|       27750|   ca|   automatic|        T5|yv1612tb4f1310987|2015|\n",
            "|Sedan| gray|     43.0|   black|  BMW|66000|6 Series Gran Coupe|  2641.0|Thu Dec 18 2014 1...|financial service...|       67000|   ca|   automatic|      650i|wba6b2c57ed129731|2014|\n",
            "+-----+-----+---------+--------+-----+-----+-------------------+--------+--------------------+--------------------+------------+-----+------------+----------+-----------------+----+\n",
            "only showing top 5 rows\n",
            "\n"
          ]
        }
      ]
    },
    {
      "cell_type": "code",
      "source": [
        "from pyspark.sql.functions import mean, max, min\n",
        "\n",
        "# Calcular estadísticas: media, máximo y mínimo para las columnas 'sellingprice' y 'odometer'\n",
        "statistics_df = pysparkDF.select(\n",
        "    mean(\"sellingprice\").alias(\"Average Selling Price\"),\n",
        "    max(\"sellingprice\").alias(\"Max Selling Price\"),\n",
        "    min(\"sellingprice\").alias(\"Min Selling Price\"),\n",
        "    mean(\"odometer\").alias(\"Average Odometer\"),\n",
        "    max(\"odometer\").alias(\"Max Odometer\"),\n",
        "    min(\"odometer\").alias(\"Min Odometer\")\n",
        ")\n",
        "\n",
        "statistics_df.show()\n"
      ],
      "metadata": {
        "colab": {
          "base_uri": "https://localhost:8080/"
        },
        "id": "pUq88bR2KpZh",
        "outputId": "ae3b7d16-328d-4023-e1d5-c7718bc0d2ce"
      },
      "execution_count": 19,
      "outputs": [
        {
          "output_type": "stream",
          "name": "stdout",
          "text": [
            "+---------------------+-----------------+-----------------+-----------------+------------+------------+\n",
            "|Average Selling Price|Max Selling Price|Min Selling Price| Average Odometer|Max Odometer|Min Odometer|\n",
            "+---------------------+-----------------+-----------------+-----------------+------------+------------+\n",
            "|   13611.358810003132|           230000|                1|68320.01776666554|    999999.0|         1.0|\n",
            "+---------------------+-----------------+-----------------+-----------------+------------+------------+\n",
            "\n"
          ]
        }
      ]
    },
    {
      "cell_type": "code",
      "source": [
        "from pyspark.sql.functions import col, when\n",
        "\n",
        "# Actualizar el precio de venta según la condición del vehículo\n",
        "updated_df = pysparkDF.withColumn(\n",
        "    \"sellingprice\",\n",
        "    when(pysparkDF.condition == \"Excellent\", pysparkDF.sellingprice * 1.20)\n",
        "    .when(pysparkDF.condition == \"Poor\", pysparkDF.sellingprice * 0.85)\n",
        "    .otherwise(pysparkDF.sellingprice)  # Si no es \"Excellent\" ni \"Poor\", dejamos el precio sin cambios\n",
        ")\n",
        "\n",
        "updated_df.show()"
      ],
      "metadata": {
        "colab": {
          "base_uri": "https://localhost:8080/"
        },
        "id": "eqbU9-28MLlR",
        "outputId": "7b7e2375-1ae9-4338-d025-8a7f8f444f0b"
      },
      "execution_count": 20,
      "outputs": [
        {
          "output_type": "stream",
          "name": "stdout",
          "text": [
            "+-----------+------+---------+--------+---------+-----+-------------------+--------+--------------------+--------------------+------------+-----+------------+--------------------+-----------------+----+\n",
            "|       body| color|condition|interior|     make|  mmr|              model|odometer|            saledate|              seller|sellingprice|state|transmission|                trim|              vin|year|\n",
            "+-----------+------+---------+--------+---------+-----+-------------------+--------+--------------------+--------------------+------------+-----+------------+--------------------+-----------------+----+\n",
            "|        SUV| white|      5.0|   black|      Kia|20500|            Sorento| 16639.0|Tue Dec 16 2014 1...|kia motors americ...|     21500.0|   ca|   automatic|                  LX|5xyktca69fg566472|2015|\n",
            "|        SUV| white|      5.0|   beige|      Kia|20800|            Sorento|  9393.0|Tue Dec 16 2014 1...|kia motors americ...|     21500.0|   ca|   automatic|                  LX|5xyktca69fg561319|2015|\n",
            "|      Sedan|  gray|     45.0|   black|      BMW|31900|           3 Series|  1331.0|Thu Jan 15 2015 0...|financial service...|     30000.0|   ca|   automatic|          328i SULEV|wba3c1c51ek116351|2014|\n",
            "|      Sedan| white|     41.0|   black|    Volvo|27500|                S60| 14282.0|Thu Jan 29 2015 0...|volvo na rep/worl...|     27750.0|   ca|   automatic|                  T5|yv1612tb4f1310987|2015|\n",
            "|      Sedan|  gray|     43.0|   black|      BMW|66000|6 Series Gran Coupe|  2641.0|Thu Dec 18 2014 1...|financial service...|     67000.0|   ca|   automatic|                650i|wba6b2c57ed129731|2014|\n",
            "|      Sedan|  gray|      1.0|   black|   Nissan|15350|             Altima|  5554.0|Tue Dec 30 2014 1...|enterprise vehicl...|     10900.0|   ca|   automatic|               2.5 S|1n4al3ap1fn326013|2015|\n",
            "|      Sedan| black|     34.0|   black|      BMW|69000|                 M5| 14943.0|Wed Dec 17 2014 1...|the hertz corpora...|     65000.0|   ca|   automatic|                Base|wbsfv9c51ed593089|2014|\n",
            "|      Sedan| black|      2.0|   black|Chevrolet|11900|              Cruze| 28617.0|Tue Dec 16 2014 1...|enterprise vehicl...|      9800.0|   ca|   automatic|                 1LT|1g1pc5sb2e7128460|2014|\n",
            "|      Sedan| white|     42.0|   black|     Audi|32100|                 A4|  9557.0|Thu Dec 18 2014 1...|  audi mission viejo|     32250.0|   ca|   automatic|2.0T Premium Plus...|wauffafl3en030343|2014|\n",
            "|Convertible|   red|      3.0|   black|Chevrolet|26300|             Camaro|  4809.0|Tue Jan 20 2015 0...|  d/m auto sales inc|     17500.0|   ca|   automatic|                  LT|2g1fb3d37e9218789|2014|\n",
            "|      Sedan| black|     48.0|   black|     Audi|47300|                 A6| 14414.0|Tue Dec 16 2014 1...|   desert auto trade|     49750.0|   ca|   automatic|3.0T Prestige qua...|wauhgafc0en062916|2014|\n",
            "|      Sedan|   red|     48.0|     tan|      Kia|15150|             Optima|  2034.0|Tue Dec 16 2014 1...|  kia motors finance|     17700.0|   ca|   automatic|                  LX|5xxgm4a73fg353538|2015|\n",
            "|      Sedan| white|      2.0|   beige|     Ford|15350|             Fusion|  5559.0|Tue Jan 13 2015 1...|enterprise vehicl...|     12000.0|   ca|   automatic|                  SE|3fa6p0hdxfr145753|2015|\n",
            "|        SUV|silver|      5.0|   black|      Kia|20600|            Sorento| 14634.0|Tue Dec 16 2014 1...|kia motors americ...|     21500.0|   ca|   automatic|                  LX|5xyktca66fg561407|2015|\n",
            "|      Sedan|  blue|     NULL|   black|Chevrolet|13900|              Cruze| 15686.0|Tue Dec 16 2014 1...|avis rac/san leandro|     10600.0|   ca|   automatic|                 2LT|1g1pe5sbxe7120097|2014|\n",
            "|      Sedan| black|      2.0|   black|   Nissan|14750|             Altima| 11398.0|Tue Dec 23 2014 1...|enterprise vehicl...|     14100.0|   ca|   automatic|               2.5 S|1n4al3ap5fc124223|2015|\n",
            "|      Sedan|   red|     NULL|       —|  Hyundai|15200|             Sonata|  8311.0|Tue Dec 16 2014 1...|            avis tra|      4200.0|   ca|   automatic|                  SE|5npe24af4fh001562|2015|\n",
            "|        SUV| white|     49.0|   black|     Audi|37100|                 Q5|  7983.0|Thu Dec 18 2014 1...|audi north scotts...|     40000.0|   ca|   automatic|2.0T Premium Plus...|wa1lfafpxea085074|2014|\n",
            "|      Coupe| black|     17.0|   black|Chevrolet|17750|             Camaro| 13441.0|Tue Dec 30 2014 1...|wells fargo deale...|     17000.0|   ca|   automatic|                  LS|2g1fa1e39e9134494|2014|\n",
            "|Convertible| black|     34.0|   black|      BMW|68000|           6 Series|  8819.0|Wed Dec 17 2014 1...|the hertz corpora...|     67200.0|   ca|   automatic|                650i|wbayp9c53ed169260|2014|\n",
            "+-----------+------+---------+--------+---------+-----+-------------------+--------+--------------------+--------------------+------------+-----+------------+--------------------+-----------------+----+\n",
            "only showing top 20 rows\n",
            "\n"
          ]
        }
      ]
    },
    {
      "cell_type": "code",
      "source": [
        "# Actualizar el precio de venta con un descuento basado en el tipo de transmisión\n",
        "updated_df = pysparkDF.withColumn(\n",
        "    \"sellingprice\",\n",
        "    when(pysparkDF.transmission == \"Manual\", pysparkDF.sellingprice * 0.90)  # 10% de descuento\n",
        "    .when(pysparkDF.transmission == \"Automatic\", pysparkDF.sellingprice * 0.95)  # 5% de descuento\n",
        "    .otherwise(pysparkDF.sellingprice)  # Si no es \"Manual\" ni \"Automatic\", dejamos el precio sin cambios\n",
        ")\n",
        "\n",
        "updated_df.show()\n"
      ],
      "metadata": {
        "colab": {
          "base_uri": "https://localhost:8080/"
        },
        "id": "B04T7Bj5Mchd",
        "outputId": "8c08b097-59ce-4736-9a6a-140771513504"
      },
      "execution_count": 22,
      "outputs": [
        {
          "output_type": "stream",
          "name": "stdout",
          "text": [
            "+-----------+------+---------+--------+---------+-----+-------------------+--------+--------------------+--------------------+------------+-----+------------+--------------------+-----------------+----+\n",
            "|       body| color|condition|interior|     make|  mmr|              model|odometer|            saledate|              seller|sellingprice|state|transmission|                trim|              vin|year|\n",
            "+-----------+------+---------+--------+---------+-----+-------------------+--------+--------------------+--------------------+------------+-----+------------+--------------------+-----------------+----+\n",
            "|        SUV| white|      5.0|   black|      Kia|20500|            Sorento| 16639.0|Tue Dec 16 2014 1...|kia motors americ...|     21500.0|   ca|   automatic|                  LX|5xyktca69fg566472|2015|\n",
            "|        SUV| white|      5.0|   beige|      Kia|20800|            Sorento|  9393.0|Tue Dec 16 2014 1...|kia motors americ...|     21500.0|   ca|   automatic|                  LX|5xyktca69fg561319|2015|\n",
            "|      Sedan|  gray|     45.0|   black|      BMW|31900|           3 Series|  1331.0|Thu Jan 15 2015 0...|financial service...|     30000.0|   ca|   automatic|          328i SULEV|wba3c1c51ek116351|2014|\n",
            "|      Sedan| white|     41.0|   black|    Volvo|27500|                S60| 14282.0|Thu Jan 29 2015 0...|volvo na rep/worl...|     27750.0|   ca|   automatic|                  T5|yv1612tb4f1310987|2015|\n",
            "|      Sedan|  gray|     43.0|   black|      BMW|66000|6 Series Gran Coupe|  2641.0|Thu Dec 18 2014 1...|financial service...|     67000.0|   ca|   automatic|                650i|wba6b2c57ed129731|2014|\n",
            "|      Sedan|  gray|      1.0|   black|   Nissan|15350|             Altima|  5554.0|Tue Dec 30 2014 1...|enterprise vehicl...|     10900.0|   ca|   automatic|               2.5 S|1n4al3ap1fn326013|2015|\n",
            "|      Sedan| black|     34.0|   black|      BMW|69000|                 M5| 14943.0|Wed Dec 17 2014 1...|the hertz corpora...|     65000.0|   ca|   automatic|                Base|wbsfv9c51ed593089|2014|\n",
            "|      Sedan| black|      2.0|   black|Chevrolet|11900|              Cruze| 28617.0|Tue Dec 16 2014 1...|enterprise vehicl...|      9800.0|   ca|   automatic|                 1LT|1g1pc5sb2e7128460|2014|\n",
            "|      Sedan| white|     42.0|   black|     Audi|32100|                 A4|  9557.0|Thu Dec 18 2014 1...|  audi mission viejo|     32250.0|   ca|   automatic|2.0T Premium Plus...|wauffafl3en030343|2014|\n",
            "|Convertible|   red|      3.0|   black|Chevrolet|26300|             Camaro|  4809.0|Tue Jan 20 2015 0...|  d/m auto sales inc|     17500.0|   ca|   automatic|                  LT|2g1fb3d37e9218789|2014|\n",
            "|      Sedan| black|     48.0|   black|     Audi|47300|                 A6| 14414.0|Tue Dec 16 2014 1...|   desert auto trade|     49750.0|   ca|   automatic|3.0T Prestige qua...|wauhgafc0en062916|2014|\n",
            "|      Sedan|   red|     48.0|     tan|      Kia|15150|             Optima|  2034.0|Tue Dec 16 2014 1...|  kia motors finance|     17700.0|   ca|   automatic|                  LX|5xxgm4a73fg353538|2015|\n",
            "|      Sedan| white|      2.0|   beige|     Ford|15350|             Fusion|  5559.0|Tue Jan 13 2015 1...|enterprise vehicl...|     12000.0|   ca|   automatic|                  SE|3fa6p0hdxfr145753|2015|\n",
            "|        SUV|silver|      5.0|   black|      Kia|20600|            Sorento| 14634.0|Tue Dec 16 2014 1...|kia motors americ...|     21500.0|   ca|   automatic|                  LX|5xyktca66fg561407|2015|\n",
            "|      Sedan|  blue|     NULL|   black|Chevrolet|13900|              Cruze| 15686.0|Tue Dec 16 2014 1...|avis rac/san leandro|     10600.0|   ca|   automatic|                 2LT|1g1pe5sbxe7120097|2014|\n",
            "|      Sedan| black|      2.0|   black|   Nissan|14750|             Altima| 11398.0|Tue Dec 23 2014 1...|enterprise vehicl...|     14100.0|   ca|   automatic|               2.5 S|1n4al3ap5fc124223|2015|\n",
            "|      Sedan|   red|     NULL|       —|  Hyundai|15200|             Sonata|  8311.0|Tue Dec 16 2014 1...|            avis tra|      4200.0|   ca|   automatic|                  SE|5npe24af4fh001562|2015|\n",
            "|        SUV| white|     49.0|   black|     Audi|37100|                 Q5|  7983.0|Thu Dec 18 2014 1...|audi north scotts...|     40000.0|   ca|   automatic|2.0T Premium Plus...|wa1lfafpxea085074|2014|\n",
            "|      Coupe| black|     17.0|   black|Chevrolet|17750|             Camaro| 13441.0|Tue Dec 30 2014 1...|wells fargo deale...|     17000.0|   ca|   automatic|                  LS|2g1fa1e39e9134494|2014|\n",
            "|Convertible| black|     34.0|   black|      BMW|68000|           6 Series|  8819.0|Wed Dec 17 2014 1...|the hertz corpora...|     67200.0|   ca|   automatic|                650i|wbayp9c53ed169260|2014|\n",
            "+-----------+------+---------+--------+---------+-----+-------------------+--------+--------------------+--------------------+------------+-----+------------+--------------------+-----------------+----+\n",
            "only showing top 20 rows\n",
            "\n"
          ]
        }
      ]
    }
  ]
}