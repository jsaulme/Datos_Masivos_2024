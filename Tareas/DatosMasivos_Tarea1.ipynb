{
  "nbformat": 4,
  "nbformat_minor": 0,
  "metadata": {
    "colab": {
      "provenance": [],
      "mount_file_id": "1smp2cR-mHd6o1H319vOydZ8L0ANT-9VS",
      "authorship_tag": "ABX9TyNeGKfw9/KXB1rCvaVpCxEM",
      "include_colab_link": true
    },
    "kernelspec": {
      "name": "python3",
      "display_name": "Python 3"
    },
    "language_info": {
      "name": "python"
    }
  },
  "cells": [
    {
      "cell_type": "markdown",
      "metadata": {
        "id": "view-in-github",
        "colab_type": "text"
      },
      "source": [
        "<a href=\"https://colab.research.google.com/github/jsaulme/Datos_Masivos_2024/blob/main/DatosMasivos_Tarea1.ipynb\" target=\"_parent\"><img src=\"https://colab.research.google.com/assets/colab-badge.svg\" alt=\"Open In Colab\"/></a>"
      ]
    },
    {
      "cell_type": "markdown",
      "source": [
        "# Instalacion de Spark"
      ],
      "metadata": {
        "id": "oXE9SmOzgOGi"
      }
    },
    {
      "cell_type": "code",
      "source": [
        "pip install pyspark"
      ],
      "metadata": {
        "colab": {
          "base_uri": "https://localhost:8080/"
        },
        "id": "_7zhZnXghHfI",
        "outputId": "e1cc28fc-08ac-44d4-fd97-e64c3c219656"
      },
      "execution_count": null,
      "outputs": [
        {
          "output_type": "stream",
          "name": "stdout",
          "text": [
            "Requirement already satisfied: pyspark in /usr/local/lib/python3.10/dist-packages (3.5.3)\n",
            "Requirement already satisfied: py4j==0.10.9.7 in /usr/local/lib/python3.10/dist-packages (from pyspark) (0.10.9.7)\n"
          ]
        }
      ]
    },
    {
      "cell_type": "code",
      "source": [
        "!pip install spotipy"
      ],
      "metadata": {
        "colab": {
          "base_uri": "https://localhost:8080/"
        },
        "id": "Sezl_itVsJnS",
        "outputId": "c8907f60-e861-4c9d-c523-d6abbea78097"
      },
      "execution_count": null,
      "outputs": [
        {
          "output_type": "stream",
          "name": "stdout",
          "text": [
            "Requirement already satisfied: spotipy in /usr/local/lib/python3.10/dist-packages (2.24.0)\n",
            "Requirement already satisfied: redis>=3.5.3 in /usr/local/lib/python3.10/dist-packages (from spotipy) (5.2.0)\n",
            "Requirement already satisfied: requests>=2.25.0 in /usr/local/lib/python3.10/dist-packages (from spotipy) (2.32.3)\n",
            "Requirement already satisfied: urllib3>=1.26.0 in /usr/local/lib/python3.10/dist-packages (from spotipy) (2.2.3)\n",
            "Requirement already satisfied: async-timeout>=4.0.3 in /usr/local/lib/python3.10/dist-packages (from redis>=3.5.3->spotipy) (4.0.3)\n",
            "Requirement already satisfied: charset-normalizer<4,>=2 in /usr/local/lib/python3.10/dist-packages (from requests>=2.25.0->spotipy) (3.4.0)\n",
            "Requirement already satisfied: idna<4,>=2.5 in /usr/local/lib/python3.10/dist-packages (from requests>=2.25.0->spotipy) (3.10)\n",
            "Requirement already satisfied: certifi>=2017.4.17 in /usr/local/lib/python3.10/dist-packages (from requests>=2.25.0->spotipy) (2024.8.30)\n"
          ]
        }
      ]
    },
    {
      "cell_type": "code",
      "source": [
        "!sudo apt update\n",
        "!apt-get install openjdk-8-jdk-headless -qq > /dev/null\n",
        "!wget -q https://archive.apache.org/dist/spark/spark-3.0.0/spark-3.0.0-bin-hadoop3.2.tgz\n",
        "!tar xf spark-3.0.0-bin-hadoop3.2.tgz\n",
        "!pip install -q findspark\n",
        "!pip install pyspark\n",
        "!pip install py4j"
      ],
      "metadata": {
        "colab": {
          "base_uri": "https://localhost:8080/"
        },
        "id": "FgmFNFi2rked",
        "outputId": "5c917b53-874a-41fc-9540-a417a6daf67c"
      },
      "execution_count": null,
      "outputs": [
        {
          "output_type": "stream",
          "name": "stdout",
          "text": [
            "\u001b[33m\r0% [Working]\u001b[0m\r            \rHit:1 https://cloud.r-project.org/bin/linux/ubuntu jammy-cran40/ InRelease\n",
            "\u001b[33m\r0% [Connecting to archive.ubuntu.com (185.125.190.83)] [Connecting to security.\u001b[0m\r                                                                               \rHit:2 http://archive.ubuntu.com/ubuntu jammy InRelease\n",
            "\u001b[33m\r0% [Waiting for headers] [Waiting for headers] [Waiting for headers] [Waiting f\u001b[0m\u001b[33m\r0% [Waiting for headers] [Waiting for headers] [Waiting for headers] [Waiting f\u001b[0m\r                                                                               \rIgn:3 https://r2u.stat.illinois.edu/ubuntu jammy InRelease\n",
            "\u001b[33m\r0% [Waiting for headers] [Waiting for headers] [Waiting for headers] [Connected\u001b[0m\r                                                                               \rHit:4 https://r2u.stat.illinois.edu/ubuntu jammy Release\n",
            "\u001b[33m\r0% [Waiting for headers] [Waiting for headers] [Waiting for headers] [Waiting f\u001b[0m\r                                                                               \rHit:5 https://developer.download.nvidia.com/compute/cuda/repos/ubuntu2204/x86_64  InRelease\n",
            "\u001b[33m\r                                                                               \r0% [Waiting for headers] [Waiting for headers] [Waiting for headers]\u001b[0m\r                                                                    \rHit:6 http://security.ubuntu.com/ubuntu jammy-security InRelease\n",
            "Hit:7 http://archive.ubuntu.com/ubuntu jammy-updates InRelease\n",
            "Hit:8 http://archive.ubuntu.com/ubuntu jammy-backports InRelease\n",
            "Hit:10 https://ppa.launchpadcontent.net/deadsnakes/ppa/ubuntu jammy InRelease\n",
            "Hit:11 https://ppa.launchpadcontent.net/graphics-drivers/ppa/ubuntu jammy InRelease\n",
            "Hit:12 https://ppa.launchpadcontent.net/ubuntugis/ppa/ubuntu jammy InRelease\n",
            "Reading package lists... Done\n",
            "Building dependency tree... Done\n",
            "Reading state information... Done\n",
            "50 packages can be upgraded. Run 'apt list --upgradable' to see them.\n",
            "\u001b[1;33mW: \u001b[0mSkipping acquire of configured file 'main/source/Sources' as repository 'https://r2u.stat.illinois.edu/ubuntu jammy InRelease' does not seem to provide it (sources.list entry misspelt?)\u001b[0m\n",
            "Requirement already satisfied: pyspark in /usr/local/lib/python3.10/dist-packages (3.5.3)\n",
            "Requirement already satisfied: py4j==0.10.9.7 in /usr/local/lib/python3.10/dist-packages (from pyspark) (0.10.9.7)\n",
            "Requirement already satisfied: py4j in /usr/local/lib/python3.10/dist-packages (0.10.9.7)\n"
          ]
        }
      ]
    },
    {
      "cell_type": "code",
      "source": [
        "import os\n",
        "import sys\n",
        "import findspark\n",
        "findspark.init()\n",
        "findspark.find()"
      ],
      "metadata": {
        "colab": {
          "base_uri": "https://localhost:8080/",
          "height": 35
        },
        "id": "4ZOj6tGZr8aY",
        "outputId": "33cdda68-d8e6-4758-f867-6be294e6e1a1"
      },
      "execution_count": null,
      "outputs": [
        {
          "output_type": "execute_result",
          "data": {
            "text/plain": [
              "'/usr/local/lib/python3.10/dist-packages/pyspark'"
            ],
            "application/vnd.google.colaboratory.intrinsic+json": {
              "type": "string"
            }
          },
          "metadata": {},
          "execution_count": 20
        }
      ]
    },
    {
      "cell_type": "code",
      "source": [
        "import pyspark\n",
        "from pyspark.sql import SparkSession, DataFrame\n",
        "from typing import List\n",
        "import pyspark.sql.functions as F\n",
        "from pyspark.sql.types import T"
      ],
      "metadata": {
        "id": "ryDohk6_vPMp"
      },
      "execution_count": null,
      "outputs": []
    },
    {
      "cell_type": "code",
      "source": [
        "spark = SparkSession.builder.appName(\"Primera Clase de Spark\").getOrCreate()\n",
        "spark"
      ],
      "metadata": {
        "colab": {
          "base_uri": "https://localhost:8080/",
          "height": 219
        },
        "id": "WzTMtv-0vl6g",
        "outputId": "c840e2c6-8f96-4148-e63d-fb460e3dbeb3"
      },
      "execution_count": null,
      "outputs": [
        {
          "output_type": "execute_result",
          "data": {
            "text/plain": [
              "<pyspark.sql.session.SparkSession at 0x7facff67ee90>"
            ],
            "text/html": [
              "\n",
              "            <div>\n",
              "                <p><b>SparkSession - in-memory</b></p>\n",
              "                \n",
              "        <div>\n",
              "            <p><b>SparkContext</b></p>\n",
              "\n",
              "            <p><a href=\"http://abb17c453b05:4040\">Spark UI</a></p>\n",
              "\n",
              "            <dl>\n",
              "              <dt>Version</dt>\n",
              "                <dd><code>v3.5.3</code></dd>\n",
              "              <dt>Master</dt>\n",
              "                <dd><code>local[*]</code></dd>\n",
              "              <dt>AppName</dt>\n",
              "                <dd><code>Primera Clase de Spark</code></dd>\n",
              "            </dl>\n",
              "        </div>\n",
              "        \n",
              "            </div>\n",
              "        "
            ]
          },
          "metadata": {},
          "execution_count": 22
        }
      ]
    },
    {
      "cell_type": "markdown",
      "source": [
        "# Importar librerias necesarias"
      ],
      "metadata": {
        "id": "ssZL_NxsQjJ2"
      }
    },
    {
      "cell_type": "code",
      "source": [
        "import statistics\n",
        "import requests\n",
        "import base64\n",
        "import client_credential  # Asegúrate de que este archivo contiene CLIENT_SECRET de forma segura.\n",
        "import spotipy\n",
        "from spotipy.oauth2 import SpotifyClientCredentials"
      ],
      "metadata": {
        "id": "7qJIhC3hQVla"
      },
      "execution_count": null,
      "outputs": []
    },
    {
      "cell_type": "code",
      "source": [
        "# Configuración de credenciales de Spotify desde variables de entorno o archivo seguro\n",
        "CLIENT_ID = os.getenv(\"SPOTIFY_CLIENT_ID\", \"d73dbd2a7d1248b8bc326eec8586a0e3\")\n",
        "CLIENT_SECRET = os.getenv(\"SPOTIFY_CLIENT_SECRET\", client_credential.CLIENT_SECRET)\n",
        "\n",
        "def get_access_token(client_id: str, client_secret: str) -> str:\n",
        "    \"\"\"Obtiene un token de acceso utilizando client_credentials.\"\"\"\n",
        "    url = \"https://accounts.spotify.com/api/token\"\n",
        "    headers = {\n",
        "        \"Authorization\": \"Basic \" + base64.b64encode(f\"{client_id}:{client_secret}\".encode()).decode(),\n",
        "        \"Content-Type\": \"application/x-www-form-urlencoded\"\n",
        "    }\n",
        "    data = {\n",
        "        \"grant_type\": \"client_credentials\"\n",
        "    }\n",
        "\n",
        "    response = requests.post(url, headers=headers, data=data)\n",
        "    if response.status_code != 200:\n",
        "        error_msg = response.json().get(\"error_description\", \"No se pudo obtener el token de acceso\")\n",
        "        raise Exception(f\"Error al obtener el token de acceso: {error_msg}\")\n",
        "\n",
        "    return response.json()[\"access_token\"]\n",
        "\n",
        "def create_spotify_client(access_token: str) -> spotipy.Spotify:\n",
        "    \"\"\"Crea una instancia del cliente de Spotify con el token de acceso.\"\"\"\n",
        "    credentials_manager = SpotifyClientCredentials(client_id=CLIENT_ID, client_secret=CLIENT_SECRET)\n",
        "    sp = spotipy.Spotify(client_credentials_manager=credentials_manager)\n",
        "    return sp\n",
        "\n",
        "def search_artist(token: str, artist_name: str) -> str:\n",
        "    \"\"\"Busca el ID de un artista dado su nombre.\"\"\"\n",
        "    sp = spotipy.Spotify(auth=token)\n",
        "    results = sp.search(q=artist_name, type=\"artist\", limit=1)\n",
        "\n",
        "    if results[\"artists\"][\"items\"]:\n",
        "        return results[\"artists\"][\"items\"][0][\"id\"]\n",
        "    else:\n",
        "        raise Exception(f\"No se encontró al artista '{artist_name}'.\")\n",
        "\n",
        "def get_artist_data(token: str, artist_id: str) -> dict:\n",
        "    \"\"\"Obtiene datos del artista como seguidores y popularidad.\"\"\"\n",
        "    sp = spotipy.Spotify(auth=token)\n",
        "    artist = sp.artist(artist_id)\n",
        "    return {\n",
        "        \"name\": artist[\"name\"],\n",
        "        \"followers\": artist[\"followers\"][\"total\"],\n",
        "        \"popularity\": artist[\"popularity\"],\n",
        "        \"genres\": artist[\"genres\"]\n",
        "    }\n",
        "\n",
        "def get_artist_top_tracks(token: str, artist_id: str) -> list:\n",
        "    \"\"\"Obtiene las canciones más populares del artista en todos los mercados disponibles.\"\"\"\n",
        "    sp = spotipy.Spotify(auth=token)\n",
        "    top_tracks = sp.artist_top_tracks(artist_id)\n",
        "\n",
        "    # Extrae las pistas con sus mercados disponibles\n",
        "    return [\n",
        "        {\n",
        "            \"track_name\": track[\"name\"],\n",
        "            \"popularity\": track[\"popularity\"],\n",
        "            \"album\": track[\"album\"][\"name\"],\n",
        "            \"available_markets\": track[\"available_markets\"]  # Listado de mercados por track\n",
        "        }\n",
        "        for track in top_tracks[\"tracks\"]\n",
        "    ]\n",
        "\n",
        "def compare_artists(token: str, artist_name1: str, artist_name2: str) -> None:\n",
        "    \"\"\"Realiza una comparativa entre dos artistas, mostrando datos clave, incluyendo todos los mercados disponibles.\"\"\"\n",
        "    # Buscar IDs de los artistas\n",
        "    artist_id1 = search_artist(token, artist_name1)\n",
        "    artist_id2 = search_artist(token, artist_name2)\n",
        "    print(f'El identificador del artista {artist_name1} es: {artist_id1}')\n",
        "    print(f'El identificador del artista {artist_name2} es: {artist_id2}')\n",
        "\n",
        "    # Obtener datos de los artistas\n",
        "    artist_data1 = get_artist_data(token, artist_id1)\n",
        "    artist_data2 = get_artist_data(token, artist_id2)\n",
        "    print(f\"\\nDatos del artista {artist_name1}: {artist_data1}\")\n",
        "    print(f\"Datos del artista {artist_name2}: {artist_data2}\")\n",
        "\n",
        "    # Obtener las canciones más populares de cada artista\n",
        "    artist1_top_tracks = get_artist_top_tracks(token, artist_id1)\n",
        "    artist2_top_tracks = get_artist_top_tracks(token, artist_id2)\n",
        "\n",
        "    print(f\"\\nCanciones más populares de {artist_name1}:\")\n",
        "    for track in artist1_top_tracks:\n",
        "        print(f\"{track['track_name']} (Popularidad: {track['popularity']}) - Mercados: {', '.join(track['available_markets'])}\")\n",
        "\n",
        "    print(f\"\\nCanciones más populares de {artist_name2}:\")\n",
        "    for track in artist2_top_tracks:\n",
        "        print(f\"{track['track_name']} (Popularidad: {track['popularity']}) - Mercados: {', '.join(track['available_markets'])}\")\n"
      ],
      "metadata": {
        "id": "u7wFjreAzYTk"
      },
      "execution_count": null,
      "outputs": []
    },
    {
      "cell_type": "code",
      "source": [
        "def compare_metrics(artist_data1: dict, artist_data2: dict, artist1_top_tracks: list, artist2_top_tracks: list) -> None:\n",
        "    \"\"\"Compara métricas clave de dos artistas y determina el ganador.\"\"\"\n",
        "\n",
        "    # Inicializar contadores de puntuación\n",
        "    artist1_score, artist2_score = 0, 0\n",
        "\n",
        "    # Verificar que artist_data1 y artist_data2 sean diccionarios válidos\n",
        "    if not isinstance(artist_data1, dict) or not isinstance(artist_data2, dict):\n",
        "        print(\"Error: Datos de artistas no válidos.\")\n",
        "        print(f\"artist_data1: {artist_data1}, artist_data2: {artist_data2}\")\n",
        "        return\n",
        "\n",
        "    # Comparativa de Seguidores\n",
        "    print(\"\\n--- Comparativa de Seguidores ---\")\n",
        "    followers1 = artist_data1.get(\"followers\", 0)\n",
        "    followers2 = artist_data2.get(\"followers\", 0)\n",
        "    print(f\"Seguidores de {artist_data1.get('name', 'Artista 1')}: {followers1}\")\n",
        "    print(f\"Seguidores de {artist_data2.get('name', 'Artista 2')}: {followers2}\")\n",
        "\n",
        "    if followers1 > followers2:\n",
        "      print(f\"Ganador en Seguidores: {artist_data1.get('name', 'Artista 1')}\")\n",
        "      artist1_score += 1\n",
        "    elif followers1 < followers2:\n",
        "      print(f\"Ganador en Seguidores: {artist_data2.get('name', 'Artista 2')}\")\n",
        "      artist2_score += 1\n",
        "    else:\n",
        "      print(\"Empate en Seguidores\")\n",
        "\n",
        "    # Comparativa de Popularidad\n",
        "    print(\"\\n--- Comparativa de Popularidad ---\")\n",
        "    popularity1 = artist_data1.get(\"popularity\", 0)\n",
        "    popularity2 = artist_data2.get(\"popularity\", 0)\n",
        "    print(f\"Popularidad de {artist_data1.get('name', 'Artista 1')}: {popularity1}\")\n",
        "    print(f\"Popularidad de {artist_data2.get('name', 'Artista 2')}: {popularity2}\")\n",
        "\n",
        "    if popularity1 > popularity2:\n",
        "        print(f\"Ganador en Popularidad: {artist_data1.get('name', 'Artista 1')}\")\n",
        "        artist1_score += 1\n",
        "    elif popularity1 < popularity2:\n",
        "        print(f\"Ganador en Popularidad: {artist_data2.get('name', 'Artista 2')}\")\n",
        "        artist2_score += 1\n",
        "    else:\n",
        "        print(\"Empate en Popularidad\")\n",
        "\n",
        "    # Comparativa de Mercados Disponibles\n",
        "    print(\"\\n--- Comparativa de Mercados Disponibles ---\")\n",
        "    artist1_markets = set()\n",
        "    artist2_markets = set()\n",
        "\n",
        "    for track in artist1_top_tracks:\n",
        "        if isinstance(track, dict):\n",
        "            artist1_markets.update(track.get(\"available_markets\", []))\n",
        "    for track in artist2_top_tracks:\n",
        "        if isinstance(track, dict):\n",
        "            artist2_markets.update(track.get(\"available_markets\", []))\n",
        "    print(f\"Mercados disponibles para {artist_data1.get('name', 'Artista 1')}: {len(artist1_markets)}\")\n",
        "    print(f\"Mercados disponibles para {artist_data2.get('name', 'Artista 2')}: {len(artist2_markets)}\")\n",
        "\n",
        "    if len(artist1_markets) > len(artist2_markets):\n",
        "        print(f\"Ganador en Mercados Disponibles: {artist_data1.get('name', 'Artista 1')}\")\n",
        "        artist1_score += 1\n",
        "    elif len(artist1_markets) < len(artist2_markets):\n",
        "        print(f\"Ganador en Mercados Disponibles: {artist_data2.get('name', 'Artista 2')}\")\n",
        "        artist2_score += 1\n",
        "    else:\n",
        "        print(\"Empate en Mercados Disponibles\")\n",
        "\n",
        "    import statistics\n",
        "\n",
        "    # Comparativa de Canciones Populares\n",
        "    print(\"\\n--- Comparativa de Canciones Populares ---\")\n",
        "\n",
        "    # Obtener listas de popularidad de las canciones de cada artista\n",
        "    artist1_popularities = [track.get(\"popularity\", 0) for track in artist1_top_tracks if isinstance(track, dict)]\n",
        "    artist2_popularities = [track.get(\"popularity\", 0) for track in artist2_top_tracks if isinstance(track, dict)]\n",
        "\n",
        "    # Mostrar número de canciones populares\n",
        "    print(f\"Número de canciones populares de {artist_data1.get('name', 'Artista 1')}: {len(artist1_popularities)}\")\n",
        "    print(f\"Número de canciones populares de {artist_data2.get('name', 'Artista 2')}: {len(artist2_popularities)}\")\n",
        "\n",
        "    # Calcular la media y la mediana de popularidad\n",
        "    mean_popularity1 = statistics.mean(artist1_popularities) if artist1_popularities else 0\n",
        "    mean_popularity2 = statistics.mean(artist2_popularities) if artist2_popularities else 0\n",
        "    median_popularity1 = statistics.median(artist1_popularities) if artist1_popularities else 0\n",
        "    median_popularity2 = statistics.median(artist2_popularities) if artist2_popularities else 0\n",
        "\n",
        "    print(f\"Media de popularidad de {artist_data1.get('name', 'Artista 1')}: {mean_popularity1}\")\n",
        "    print(f\"Media de popularidad de {artist_data2.get('name', 'Artista 2')}: {mean_popularity2}\")\n",
        "    print(f\"Mediana de popularidad de {artist_data1.get('name', 'Artista 1')}: {median_popularity1}\")\n",
        "    print(f\"Mediana de popularidad de {artist_data2.get('name', 'Artista 2')}: {median_popularity2}\")\n",
        "\n",
        "    # Determinar el ganador en popularidad de canciones\n",
        "    if mean_popularity1 > mean_popularity2 and median_popularity1 > median_popularity2:\n",
        "        print(f\"Ganador en Popularidad de Canciones: {artist_data1.get('name', 'Artista 1')}\")\n",
        "        artist1_score += 1\n",
        "    elif mean_popularity1 < mean_popularity2 and median_popularity1 < median_popularity2:\n",
        "        print(f\"Ganador en Popularidad de Canciones: {artist_data2.get('name', 'Artista 2')}\")\n",
        "        artist2_score += 1\n",
        "    else:\n",
        "        print(\"Empate en Popularidad de Canciones\")\n",
        "\n",
        "    # Devolver el puntaje actualizado\n",
        "    return artist1_score, artist2_score\n",
        "\n",
        "\n",
        "    # Ganador final\n",
        "    if artist1_score > artist2_score:\n",
        "      print(f\"\\nEl ganador general es: {artist_data1.get('name', 'Artista 1')} con {artist1_score} puntos\")\n",
        "    elif artist1_score < artist2_score:\n",
        "      print(f\"\\nEl ganador general es: {artist_data2.get('name', 'Artista 2')} con {artist2_score} puntos\")\n",
        "    else:\n",
        "      print(\"\\nEs un empate entre ambos artistas.\")\n",
        "\n",
        "# Ejecutar la comparativa con datos verificados\n",
        "compare_metrics(artist_data1, artist_data2, artist1_top_tracks, artist2_top_tracks)\n"
      ],
      "metadata": {
        "colab": {
          "base_uri": "https://localhost:8080/"
        },
        "id": "gzXkTn8r3c5J",
        "outputId": "312cd237-f200-4606-ca78-3673d1d58ace"
      },
      "execution_count": null,
      "outputs": [
        {
          "output_type": "stream",
          "name": "stdout",
          "text": [
            "\n",
            "--- Comparativa de Seguidores ---\n",
            "Seguidores de Intocable: 3966116\n",
            "Seguidores de Duelo: 1958004\n",
            "Ganador en Seguidores: Intocable\n",
            "\n",
            "--- Comparativa de Popularidad ---\n",
            "Popularidad de Intocable: 73\n",
            "Popularidad de Duelo: 72\n",
            "Ganador en Popularidad: Intocable\n",
            "\n",
            "--- Comparativa de Mercados Disponibles ---\n",
            "Mercados disponibles para Intocable: 183\n",
            "Mercados disponibles para Duelo: 185\n",
            "Ganador en Mercados Disponibles: Duelo\n",
            "\n",
            "--- Comparativa de Canciones Populares ---\n",
            "Número de canciones populares de Intocable: 10\n",
            "Número de canciones populares de Duelo: 10\n",
            "Media de popularidad de Intocable: 64.4\n",
            "Media de popularidad de Duelo: 64\n",
            "Mediana de popularidad de Intocable: 64.5\n",
            "Mediana de popularidad de Duelo: 64.0\n",
            "Ganador en Popularidad de Canciones: Intocable\n"
          ]
        },
        {
          "output_type": "execute_result",
          "data": {
            "text/plain": [
              "(3, 1)"
            ]
          },
          "metadata": {},
          "execution_count": 64
        }
      ]
    },
    {
      "cell_type": "code",
      "source": [
        "if __name__ == \"__main__\":\n",
        "    try:\n",
        "        # Obtener el token de acceso\n",
        "        token = get_access_token(CLIENT_ID, CLIENT_SECRET)\n",
        "        print(\"Token de acceso obtenido correctamente.\")\n",
        "\n",
        "        # Definir los nombres de los artistas\n",
        "        artist_name1 = \"Intocable\"\n",
        "        artist_name2 = \"Duelo\"\n",
        "\n",
        "        # Buscar los IDs de los artistas\n",
        "        artist_id1 = search_artist(token, artist_name1)\n",
        "        artist_id2 = search_artist(token, artist_name2)\n",
        "\n",
        "        # Obtener datos de los artistas\n",
        "        artist_data1 = get_artist_data(token, artist_id1)\n",
        "        artist_data2 = get_artist_data(token, artist_id2)\n",
        "\n",
        "        # Obtener las canciones más populares de cada artista\n",
        "        artist1_top_tracks = get_artist_top_tracks(token, artist_id1)\n",
        "        artist2_top_tracks = get_artist_top_tracks(token, artist_id2)\n",
        "\n",
        "        # Realizar la comparativa de métricas\n",
        "        compare_metrics(artist_data1, artist_data2, artist1_top_tracks, artist2_top_tracks)\n",
        "\n",
        "    except Exception as e:\n",
        "        print(f\"Error: {e}\")\n"
      ],
      "metadata": {
        "colab": {
          "base_uri": "https://localhost:8080/"
        },
        "id": "8r9CUmjkBdsm",
        "outputId": "e09ec337-a292-4543-ab82-b510bec8446a"
      },
      "execution_count": null,
      "outputs": [
        {
          "output_type": "stream",
          "name": "stdout",
          "text": [
            "Token de acceso obtenido correctamente.\n",
            "\n",
            "--- Comparativa de Seguidores ---\n",
            "Seguidores de Intocable: 3966116\n",
            "Seguidores de Duelo: 1958004\n",
            "Ganador en Seguidores: Intocable\n",
            "\n",
            "--- Comparativa de Popularidad ---\n",
            "Popularidad de Intocable: 73\n",
            "Popularidad de Duelo: 72\n",
            "Ganador en Popularidad: Intocable\n",
            "\n",
            "--- Comparativa de Mercados Disponibles ---\n",
            "Mercados disponibles para Intocable: 183\n",
            "Mercados disponibles para Duelo: 185\n",
            "Ganador en Mercados Disponibles: Duelo\n",
            "\n",
            "--- Comparativa de Canciones Populares ---\n",
            "Número de canciones populares de Intocable: 10\n",
            "Número de canciones populares de Duelo: 10\n",
            "Media de popularidad de Intocable: 64.4\n",
            "Media de popularidad de Duelo: 64\n",
            "Mediana de popularidad de Intocable: 64.5\n",
            "Mediana de popularidad de Duelo: 64.0\n",
            "Ganador en Popularidad de Canciones: Intocable\n"
          ]
        }
      ]
    },
    {
      "cell_type": "code",
      "source": [
        "    # Imprimir datos completos de los artistas para verificar su contenido\n",
        "    print(\"\\n--- Datos de Artista 1 ---\")\n",
        "    print(artist_data1)\n",
        "    print(\"\\n--- Datos de Artista 2 ---\")\n",
        "    print(artist_data2)"
      ],
      "metadata": {
        "colab": {
          "base_uri": "https://localhost:8080/"
        },
        "id": "jdr3WVHyO5UN",
        "outputId": "866d9c1d-9fc4-4130-8be9-a85950b82b66"
      },
      "execution_count": null,
      "outputs": [
        {
          "output_type": "stream",
          "name": "stdout",
          "text": [
            "\n",
            "--- Datos de Artista 1 ---\n",
            "{'name': 'Intocable', 'followers': 3966116, 'popularity': 73, 'genres': ['banda', 'musica mexicana', 'norteno', 'tejano']}\n",
            "\n",
            "--- Datos de Artista 2 ---\n",
            "{'name': 'Duelo', 'followers': 1958004, 'popularity': 72, 'genres': ['banda', 'musica mexicana', 'norteno', 'tejano']}\n"
          ]
        }
      ]
    },
    {
      "cell_type": "code",
      "source": [
        "# Obtener el identificador de los artistas\n",
        "artist_id1 = search_artist(token, artist_name1)\n",
        "artist_id2 = search_artist(token, artist_name2)\n",
        "print(f'El identificador del artista {artist_name1} es: {artist_id1}')\n",
        "print(f'El identificador del artista {artist_name2} es: {artist_id2}')"
      ],
      "metadata": {
        "colab": {
          "base_uri": "https://localhost:8080/"
        },
        "id": "GolGLj5UO5ve",
        "outputId": "041fd8b9-f158-4df1-d2b3-e5a022199fd5"
      },
      "execution_count": null,
      "outputs": [
        {
          "output_type": "stream",
          "name": "stdout",
          "text": [
            "El identificador del artista Intocable es: 108moq3rq6bm1M4Ypz0J02\n",
            "El identificador del artista Duelo es: 0nnp7oJpY2J6yZOqtdKaWq\n"
          ]
        }
      ]
    },
    {
      "cell_type": "code",
      "source": [
        "import requests\n",
        "import pandas as pd\n",
        "\n",
        "# Datos de autenticación (reemplaza con tus credenciales)\n",
        "CLIENT_ID = 'TU_CLIENT_ID'\n",
        "CLIENT_SECRET = 'TU_CLIENT_SECRET'\n",
        "\n",
        "# Obtener información de álbumes de un artista\n",
        "def get_artist_albums(artist_id, access_token):\n",
        "    url = f\"https://api.spotify.com/v1/artists/{artist_id}/albums?include_groups=album,single\"\n",
        "    headers = {\n",
        "        \"Authorization\": f\"Bearer {access_token}\"\n",
        "    }\n",
        "\n",
        "    response = requests.get(url, headers=headers)\n",
        "\n",
        "    # Check if the request was successful\n",
        "    if response.status_code == 200:\n",
        "        return response.json().get('items', [])\n",
        "    else:\n",
        "        print(f\"Error fetching albums: {response.status_code}, {response.text}\")\n",
        "        return []  # Return an empty list to avoid further errors\n",
        "\n",
        "# Obtener información de pistas (tracks) de un álbum\n",
        "def get_album_tracks(album_id, access_token):\n",
        "    url = f\"https://api.spotify.com/v1/albums/{album_id}/tracks\"\n",
        "    headers = {\n",
        "        \"Authorization\": f\"Bearer {access_token}\"\n",
        "    }\n",
        "\n",
        "    response = requests.get(url, headers=headers)\n",
        "\n",
        "    if response.status_code == 200:\n",
        "        return response.json().get('items', [])\n",
        "    else:\n",
        "        print(f\"Error fetching tracks: {response.status_code}, {response.text}\")\n",
        "        return []\n",
        "\n",
        "# Obtener listas de reproducción (playlists) del artista\n",
        "def get_artist_playlists(artist_name, access_token):\n",
        "    url = f\"https://api.spotify.com/v1/search?q={artist_name}&type=playlist&limit=10\"\n",
        "    headers = {\n",
        "        \"Authorization\": f\"Bearer {access_token}\"\n",
        "    }\n",
        "\n",
        "    response = requests.get(url, headers=headers)\n",
        "\n",
        "    # Manejo de errores\n",
        "    if response.status_code == 200:\n",
        "        return response.json().get('playlists', {}).get('items', [])\n",
        "    else:\n",
        "        print(f\"Error al obtener listas de reproducción: {response.status_code}, {response.text}\")\n",
        "        return []\n",
        "\n",
        "# Obtener géneros\n",
        "def get_genres(access_token):\n",
        "    url = \"https://api.spotify.com/v1/recommendations/available-genre-seeds\"\n",
        "    headers = {\n",
        "        \"Authorization\": f\"Bearer {access_token}\"\n",
        "    }\n",
        "\n",
        "    response = requests.get(url, headers=headers)\n",
        "\n",
        "    if response.status_code == 200:\n",
        "        return response.json().get('genres', [])\n",
        "    else:\n",
        "        print(f\"Error al obtener géneros: {response.status_code}, {response.text}\")\n",
        "        return []\n",
        "\n",
        "# Obtener mercados (market)\n",
        "def get_markets(access_token):\n",
        "    url = \"https://api.spotify.com/v1/markets\"\n",
        "    headers = {\n",
        "        \"Authorization\": f\"Bearer {access_token}\"\n",
        "    }\n",
        "\n",
        "    response = requests.get(url, headers=headers)\n",
        "\n",
        "    if response.status_code == 200:\n",
        "        return response.json().get('markets', [])\n",
        "    else:\n",
        "        print(f\"Error al obtener mercados: {response.status_code}, {response.text}\")\n",
        "        return []\n",
        "\n",
        "# Guardar todos los datos en un archivo CSV\n",
        "def save_data_to_csv(data, filename):\n",
        "    df = pd.DataFrame(data)\n",
        "    df.to_csv(filename, index=False)\n",
        "\n",
        "# Código principal\n",
        "if __name__ == \"__main__\":\n",
        "    artist_id = \"0bR8CYYg0vU4F5gJb79X5V\"  # ID de Intocable\n",
        "\n",
        "    # Obtener información de álbumes\n",
        "    albums = get_artist_albums(artist_id, access_token)\n",
        "\n",
        "    all_tracks = []\n",
        "\n",
        "    for album in albums:\n",
        "        album_tracks = get_album_tracks(album['id'], access_token)\n",
        "        all_tracks.extend(album_tracks)  # Añadir las canciones a la lista\n",
        "\n",
        "    # Obtener playlists\n",
        "    playlists = get_artist_playlists(\"Intocable\", access_token)\n",
        "\n",
        "    # Obtener géneros\n",
        "    genres = get_genres(access_token)\n",
        "\n",
        "    # Obtener mercados\n",
        "    markets = get_markets(access_token)\n",
        "\n",
        "    # Guardar datos en archivos CSV\n",
        "    save_data_to_csv(all_tracks, 'intocable_tracks.csv')\n",
        "    save_data_to_csv(albums, 'intocable_albums.csv')\n",
        "    save_data_to_csv(playlists, 'intocable_playlists.csv')\n",
        "    save_data_to_csv(genres, 'intocable_genres.csv')\n",
        "    save_data_to_csv(markets, 'intocable_markets.csv')\n",
        "\n",
        "    print(\"Datos de Intocable guardados en archivos CSV.\")"
      ],
      "metadata": {
        "colab": {
          "base_uri": "https://localhost:8080/"
        },
        "id": "UaFwMtJXa8Fo",
        "outputId": "172d4d07-782b-4c21-9ded-53d29e161287"
      },
      "execution_count": null,
      "outputs": [
        {
          "output_type": "stream",
          "name": "stdout",
          "text": [
            "Error fetching albums: 404, {\"error\": {\"status\": 404, \"message\": \"Resource not found\" } }\n",
            "Datos de Intocable guardados en archivos CSV.\n"
          ]
        }
      ]
    },
    {
      "cell_type": "code",
      "source": [
        "!pip install datasets"
      ],
      "metadata": {
        "colab": {
          "base_uri": "https://localhost:8080/"
        },
        "id": "AHzthW2Zj4Ed",
        "outputId": "500fba53-02fd-4c67-ac1e-aaa3e3a297d8"
      },
      "execution_count": null,
      "outputs": [
        {
          "output_type": "stream",
          "name": "stdout",
          "text": [
            "Collecting datasets\n",
            "  Downloading datasets-3.0.2-py3-none-any.whl.metadata (20 kB)\n",
            "Requirement already satisfied: filelock in /usr/local/lib/python3.10/dist-packages (from datasets) (3.16.1)\n",
            "Requirement already satisfied: numpy>=1.17 in /usr/local/lib/python3.10/dist-packages (from datasets) (1.26.4)\n",
            "Requirement already satisfied: pyarrow>=15.0.0 in /usr/local/lib/python3.10/dist-packages (from datasets) (16.1.0)\n",
            "Collecting dill<0.3.9,>=0.3.0 (from datasets)\n",
            "  Downloading dill-0.3.8-py3-none-any.whl.metadata (10 kB)\n",
            "Requirement already satisfied: pandas in /usr/local/lib/python3.10/dist-packages (from datasets) (2.2.2)\n",
            "Requirement already satisfied: requests>=2.32.2 in /usr/local/lib/python3.10/dist-packages (from datasets) (2.32.3)\n",
            "Requirement already satisfied: tqdm>=4.66.3 in /usr/local/lib/python3.10/dist-packages (from datasets) (4.66.5)\n",
            "Collecting xxhash (from datasets)\n",
            "  Downloading xxhash-3.5.0-cp310-cp310-manylinux_2_17_x86_64.manylinux2014_x86_64.whl.metadata (12 kB)\n",
            "Collecting multiprocess<0.70.17 (from datasets)\n",
            "  Downloading multiprocess-0.70.16-py310-none-any.whl.metadata (7.2 kB)\n",
            "Requirement already satisfied: fsspec<=2024.9.0,>=2023.1.0 in /usr/local/lib/python3.10/dist-packages (from fsspec[http]<=2024.9.0,>=2023.1.0->datasets) (2024.6.1)\n",
            "Requirement already satisfied: aiohttp in /usr/local/lib/python3.10/dist-packages (from datasets) (3.10.10)\n",
            "Requirement already satisfied: huggingface-hub>=0.23.0 in /usr/local/lib/python3.10/dist-packages (from datasets) (0.24.7)\n",
            "Requirement already satisfied: packaging in /usr/local/lib/python3.10/dist-packages (from datasets) (24.1)\n",
            "Requirement already satisfied: pyyaml>=5.1 in /usr/local/lib/python3.10/dist-packages (from datasets) (6.0.2)\n",
            "Requirement already satisfied: aiohappyeyeballs>=2.3.0 in /usr/local/lib/python3.10/dist-packages (from aiohttp->datasets) (2.4.3)\n",
            "Requirement already satisfied: aiosignal>=1.1.2 in /usr/local/lib/python3.10/dist-packages (from aiohttp->datasets) (1.3.1)\n",
            "Requirement already satisfied: attrs>=17.3.0 in /usr/local/lib/python3.10/dist-packages (from aiohttp->datasets) (24.2.0)\n",
            "Requirement already satisfied: frozenlist>=1.1.1 in /usr/local/lib/python3.10/dist-packages (from aiohttp->datasets) (1.4.1)\n",
            "Requirement already satisfied: multidict<7.0,>=4.5 in /usr/local/lib/python3.10/dist-packages (from aiohttp->datasets) (6.1.0)\n",
            "Requirement already satisfied: yarl<2.0,>=1.12.0 in /usr/local/lib/python3.10/dist-packages (from aiohttp->datasets) (1.16.0)\n",
            "Requirement already satisfied: async-timeout<5.0,>=4.0 in /usr/local/lib/python3.10/dist-packages (from aiohttp->datasets) (4.0.3)\n",
            "Requirement already satisfied: typing-extensions>=3.7.4.3 in /usr/local/lib/python3.10/dist-packages (from huggingface-hub>=0.23.0->datasets) (4.12.2)\n",
            "Requirement already satisfied: charset-normalizer<4,>=2 in /usr/local/lib/python3.10/dist-packages (from requests>=2.32.2->datasets) (3.4.0)\n",
            "Requirement already satisfied: idna<4,>=2.5 in /usr/local/lib/python3.10/dist-packages (from requests>=2.32.2->datasets) (3.10)\n",
            "Requirement already satisfied: urllib3<3,>=1.21.1 in /usr/local/lib/python3.10/dist-packages (from requests>=2.32.2->datasets) (2.2.3)\n",
            "Requirement already satisfied: certifi>=2017.4.17 in /usr/local/lib/python3.10/dist-packages (from requests>=2.32.2->datasets) (2024.8.30)\n",
            "Requirement already satisfied: python-dateutil>=2.8.2 in /usr/local/lib/python3.10/dist-packages (from pandas->datasets) (2.8.2)\n",
            "Requirement already satisfied: pytz>=2020.1 in /usr/local/lib/python3.10/dist-packages (from pandas->datasets) (2024.2)\n",
            "Requirement already satisfied: tzdata>=2022.7 in /usr/local/lib/python3.10/dist-packages (from pandas->datasets) (2024.2)\n",
            "Requirement already satisfied: six>=1.5 in /usr/local/lib/python3.10/dist-packages (from python-dateutil>=2.8.2->pandas->datasets) (1.16.0)\n",
            "Requirement already satisfied: propcache>=0.2.0 in /usr/local/lib/python3.10/dist-packages (from yarl<2.0,>=1.12.0->aiohttp->datasets) (0.2.0)\n",
            "Downloading datasets-3.0.2-py3-none-any.whl (472 kB)\n",
            "\u001b[2K   \u001b[90m━━━━━━━━━━━━━━━━━━━━━━━━━━━━━━━━━━━━━━━━\u001b[0m \u001b[32m472.7/472.7 kB\u001b[0m \u001b[31m23.1 MB/s\u001b[0m eta \u001b[36m0:00:00\u001b[0m\n",
            "\u001b[?25hDownloading dill-0.3.8-py3-none-any.whl (116 kB)\n",
            "\u001b[2K   \u001b[90m━━━━━━━━━━━━━━━━━━━━━━━━━━━━━━━━━━━━━━━━\u001b[0m \u001b[32m116.3/116.3 kB\u001b[0m \u001b[31m8.3 MB/s\u001b[0m eta \u001b[36m0:00:00\u001b[0m\n",
            "\u001b[?25hDownloading multiprocess-0.70.16-py310-none-any.whl (134 kB)\n",
            "\u001b[2K   \u001b[90m━━━━━━━━━━━━━━━━━━━━━━━━━━━━━━━━━━━━━━━━\u001b[0m \u001b[32m134.8/134.8 kB\u001b[0m \u001b[31m10.6 MB/s\u001b[0m eta \u001b[36m0:00:00\u001b[0m\n",
            "\u001b[?25hDownloading xxhash-3.5.0-cp310-cp310-manylinux_2_17_x86_64.manylinux2014_x86_64.whl (194 kB)\n",
            "\u001b[2K   \u001b[90m━━━━━━━━━━━━━━━━━━━━━━━━━━━━━━━━━━━━━━━━\u001b[0m \u001b[32m194.1/194.1 kB\u001b[0m \u001b[31m14.6 MB/s\u001b[0m eta \u001b[36m0:00:00\u001b[0m\n",
            "\u001b[?25hInstalling collected packages: xxhash, dill, multiprocess, datasets\n",
            "Successfully installed datasets-3.0.2 dill-0.3.8 multiprocess-0.70.16 xxhash-3.5.0\n"
          ]
        }
      ]
    },
    {
      "cell_type": "code",
      "source": [
        "from datasets import load_dataset"
      ],
      "metadata": {
        "id": "phj2v2-7kGN2"
      },
      "execution_count": null,
      "outputs": []
    },
    {
      "cell_type": "code",
      "source": [
        "from datasets import load_dataset\n",
        "\n",
        "# Cargar el dataset desde Hugging Face\n",
        "dataset = load_dataset(\"TimoH/spotify_sleep_dataset\", split=\"train\")"
      ],
      "metadata": {
        "id": "V2O_cl3HkL9I"
      },
      "execution_count": 87,
      "outputs": []
    },
    {
      "source": [
        "# Assuming the Hugging Face dataset downloaded to 'spotify_sleep_dataset'\n",
        "from datasets import load_dataset\n",
        "\n",
        "# Load the dataset using datasets library\n",
        "dataset = load_dataset(\"TimoH/spotify_sleep_dataset\", split=\"train\")\n",
        "\n",
        "# Convert the Hugging Face Dataset to a Spark DataFrame\n",
        "# Note: This requires PySpark to be configured to work with Pandas UDFs\n",
        "spark_df = spark.createDataFrame(dataset.to_pandas())\n",
        "\n",
        "# Show the schema and first few records\n",
        "spark_df.printSchema()\n",
        "spark_df.show(5)"
      ],
      "cell_type": "code",
      "metadata": {
        "colab": {
          "base_uri": "https://localhost:8080/"
        },
        "id": "XvOIZWWt9wVE",
        "outputId": "d30f3fe2-76ba-4672-cf0e-0662f24a8150"
      },
      "execution_count": 92,
      "outputs": [
        {
          "output_type": "stream",
          "name": "stdout",
          "text": [
            "root\n",
            " |-- Unnamed: 0: long (nullable = true)\n",
            " |-- TrackName: string (nullable = true)\n",
            " |-- TrackID: string (nullable = true)\n",
            " |-- SampleURL: string (nullable = true)\n",
            " |-- ReleaseYear: string (nullable = true)\n",
            " |-- Genres: string (nullable = true)\n",
            " |-- danceability: double (nullable = true)\n",
            " |-- energy: double (nullable = true)\n",
            " |-- loudness: double (nullable = true)\n",
            " |-- speechiness: double (nullable = true)\n",
            " |-- acousticness: double (nullable = true)\n",
            " |-- instrumentalness: double (nullable = true)\n",
            " |-- liveness: double (nullable = true)\n",
            " |-- valence: double (nullable = true)\n",
            " |-- tempo: double (nullable = true)\n",
            " |-- key: long (nullable = true)\n",
            " |-- mode: long (nullable = true)\n",
            " |-- duration_ms: long (nullable = true)\n",
            " |-- Popularity: double (nullable = true)\n",
            " |-- pNum: long (nullable = true)\n",
            " |-- playlistID: string (nullable = true)\n",
            " |-- label: string (nullable = true)\n",
            " |-- userCat: string (nullable = true)\n",
            " |-- demoCat: string (nullable = true)\n",
            " |-- length: string (nullable = true)\n",
            " |-- playlistTitle: string (nullable = true)\n",
            " |-- nFoll: long (nullable = true)\n",
            " |-- nTracks: long (nullable = true)\n",
            "\n",
            "+----------+--------------------+--------------------+--------------------+-----------+--------------------+------------+------+--------+-----------+------------+----------------+--------+-------+-------+---+----+-----------+----------+----+--------------------+-----+-------+-------+------+-------------+-------+-------+\n",
            "|Unnamed: 0|           TrackName|             TrackID|           SampleURL|ReleaseYear|              Genres|danceability|energy|loudness|speechiness|acousticness|instrumentalness|liveness|valence|  tempo|key|mode|duration_ms|Popularity|pNum|          playlistID|label|userCat|demoCat|length|playlistTitle|  nFoll|nTracks|\n",
            "+----------+--------------------+--------------------+--------------------+-----------+--------------------+------------+------+--------+-----------+------------+----------------+--------+-------+-------+---+----+-----------+----------+----+--------------------+-----+-------+-------+------+-------------+-------+-------+\n",
            "|         1|            Universo|48mOMNLnlbok3W6an...|https://p.scdn.co...| 2020-06-08|           [unknown]|      0.0697|0.0936| -22.559|     0.0459|       0.971|            0.84|    0.09| 0.0262| 76.302|  3|   1|     176953|      63.0|   1|37i9dQZF1DWYcDQ1h...| NULL|spotify|  Adult| 13h11|   Deep Sleep|1168876|    221|\n",
            "|         2|         The Journey|77Fs2NajDBQaOOZkY...|https://p.scdn.co...| 2020-04-10|           [unknown]|       0.165|0.0375| -30.391|     0.0446|        0.93|           0.939|  0.0855| 0.0654| 75.222|  9|   1|     157000|      65.0|   1|37i9dQZF1DWYcDQ1h...| NULL|spotify|  Adult| 13h11|   Deep Sleep|1168876|    221|\n",
            "|         3|              always|5Nusgvqw46McIdfuq...|https://p.scdn.co...| 2020-03-20|           [unknown]|       0.196|0.0409| -27.052|     0.0422|       0.989|           0.997|  0.0867| 0.0342| 67.264|  7|   1|     176500|      63.0|   1|37i9dQZF1DWYcDQ1h...| NULL|spotify|  Adult| 13h11|   Deep Sleep|1168876|    221|\n",
            "|         4|Stellaristique Vi...|0MufjWQZiuRDaL2pL...|https://p.scdn.co...| 2020-06-29|           [unknown]|        0.22| 0.162|  -22.44|     0.0332|       0.802|           0.913|   0.105|  0.039| 63.806|  1|   0|     206769|      62.0|   1|37i9dQZF1DWYcDQ1h...| NULL|spotify|  Adult| 13h11|   Deep Sleep|1168876|    221|\n",
            "|         5|        Virga I (ii)|5dxWZlVi3k8omltMs...|https://p.scdn.co...| 2020-02-21|['ambient', 'comp...|        0.17|  0.17| -23.001|     0.0425|       0.878|           0.742|   0.112| 0.0777|125.517|  7|   0|     246027|      63.0|   1|37i9dQZF1DWYcDQ1h...| NULL|spotify|  Adult| 13h11|   Deep Sleep|1168876|    221|\n",
            "+----------+--------------------+--------------------+--------------------+-----------+--------------------+------------+------+--------+-----------+------------+----------------+--------+-------+-------+---+----+-----------+----------+----+--------------------+-----+-------+-------+------+-------------+-------+-------+\n",
            "only showing top 5 rows\n",
            "\n"
          ]
        }
      ]
    },
    {
      "cell_type": "code",
      "source": [
        "from pyspark.sql.functions import avg\n",
        "\n",
        "# Promedios de características acústicas por año de lanzamiento\n",
        "acoustic_trends = spark_df.groupBy(\"ReleaseYear\").agg(\n",
        "    avg(\"danceability\").alias(\"avg_danceability\"),\n",
        "    avg(\"energy\").alias(\"avg_energy\"),\n",
        "    avg(\"acousticness\").alias(\"avg_acousticness\")\n",
        ").orderBy(\"ReleaseYear\")\n",
        "\n",
        "acoustic_trends.show()\n"
      ],
      "metadata": {
        "colab": {
          "base_uri": "https://localhost:8080/"
        },
        "id": "4PoJqxvo-MKB",
        "outputId": "6a20842f-142e-4050-9ee3-6137453c1d16"
      },
      "execution_count": 94,
      "outputs": [
        {
          "output_type": "stream",
          "name": "stdout",
          "text": [
            "+-----------+-------------------+--------------------+------------------+\n",
            "|ReleaseYear|   avg_danceability|          avg_energy|  avg_acousticness|\n",
            "+-----------+-------------------+--------------------+------------------+\n",
            "|       0000|              0.494|               0.491|             0.546|\n",
            "| 1899-12-31|                0.4|                 0.1|             0.982|\n",
            "|       1910|              0.319|               0.109|             0.989|\n",
            "|       1930|             0.2815|              0.0077|             0.992|\n",
            "|       1933|              0.358|               0.452|             0.991|\n",
            "|       1936|              0.444|                0.39|             0.814|\n",
            "|       1939|              0.342|               0.126|             0.862|\n",
            "| 1942-01-01|                0.7|               0.104|             0.972|\n",
            "|       1947|              0.257|               0.168|             0.946|\n",
            "|       1949|0.46116666666666667|0.023048333333333337|0.9846666666666666|\n",
            "| 1949-08-01|              0.317|              0.0186|             0.956|\n",
            "| 1950-09-11|              0.455|               0.106|             0.986|\n",
            "|       1951|              0.508|                0.15|              0.99|\n",
            "| 1952-01-01| 0.5455714285714286| 0.07917142857142857|0.9907142857142857|\n",
            "| 1952-11-03|              0.182|               0.271|             0.953|\n",
            "|       1953|             0.3406|              0.0338|            0.9715|\n",
            "|       1954|               0.45|              0.2129|0.8563333333333333|\n",
            "| 1954-01-01| 0.4401333333333333| 0.12141999999999999|0.9484666666666667|\n",
            "|       1955| 0.3217777777777779|             0.10385|0.8902777777777777|\n",
            "| 1955-01-01|              0.503|              0.0553|             0.955|\n",
            "+-----------+-------------------+--------------------+------------------+\n",
            "only showing top 20 rows\n",
            "\n"
          ]
        }
      ]
    },
    {
      "cell_type": "code",
      "source": [
        "# Agrupar por decadas\n",
        "from pyspark.sql.functions import floor\n",
        "\n",
        "# Crear columna \"Decade\" truncando el año a la década\n",
        "spark_df = spark_df.withColumn(\"Decade\", (floor(spark_df[\"ReleaseYear\"] / 10) * 10))\n"
      ],
      "metadata": {
        "id": "1-VZcQr5_Pda"
      },
      "execution_count": 95,
      "outputs": []
    },
    {
      "source": [
        "from pyspark.sql.window import Window\n",
        "from pyspark.sql.functions import row_number, col # Import 'col' here\n",
        "\n",
        "# Crear ventana para particionar por década y género, ordenar por popularidad\n",
        "window = Window.partitionBy(\"Decade\", \"Genres\").orderBy(col(\"Popularity\").desc())\n",
        "\n",
        "# Obtener la canción más popular de cada género en cada década\n",
        "top_tracks_by_decade_genre = spark_df.withColumn(\"rank\", row_number().over(window)) \\\n",
        "                                     .filter(col(\"rank\") == 1) \\\n",
        "                                     .select(\"Decade\", \"Genres\", \"TrackName\", \"Popularity\")\n",
        "\n",
        "top_tracks_by_decade_genre.show()"
      ],
      "cell_type": "code",
      "metadata": {
        "colab": {
          "base_uri": "https://localhost:8080/"
        },
        "id": "qs3oYNXX_xEU",
        "outputId": "03426a88-d49b-4394-e972-1455f80f25b3"
      },
      "execution_count": 97,
      "outputs": [
        {
          "output_type": "stream",
          "name": "stdout",
          "text": [
            "+------+--------------------+--------------------+----------+\n",
            "|Decade|              Genres|           TrackName|Popularity|\n",
            "+------+--------------------+--------------------+----------+\n",
            "|  NULL|[\"australian chil...|         Sleepy Time|       0.0|\n",
            "|  NULL|[\"australian chil...| Lullaby Sleepy Head|      36.0|\n",
            "|  NULL|[\"canadian childr...|Octopus (Slippery...|      40.0|\n",
            "|  NULL|[\"canadian childr...|          Sleep Song|      29.0|\n",
            "|  NULL|[\"children's folk...|       Slippery Fish|      59.0|\n",
            "|  NULL|[\"children's folk...|  Movie In My Pillow|      24.0|\n",
            "|  NULL|[\"children's folk...|Count Them As The...|      27.0|\n",
            "|  NULL|[\"children's folk...|You Are My Sunshi...|      58.0|\n",
            "|  NULL|[\"children's folk...|           Nocturnal|      27.0|\n",
            "|  NULL| [\"children's folk\"]|   How to Be a Cloud|      28.0|\n",
            "|  NULL|[\"children's musi...|    Hush Little Baby|      38.0|\n",
            "|  NULL|[\"children's musi...|How Much Is That ...|      20.0|\n",
            "|  NULL|[\"children's musi...|           Goodnight|       0.0|\n",
            "|  NULL|[\"children's musi...| Toora, Loora, Loora|      14.0|\n",
            "|  NULL|[\"children's musi...|Lullaby and Good ...|      56.0|\n",
            "|  NULL|[\"children's musi...|   Bohemian Rhapsody|      50.0|\n",
            "|  NULL|[\"children's musi...|Rock a Bye Baby (...|      29.0|\n",
            "|  NULL|[\"children's music\"]|    Little Snowflake|      59.0|\n",
            "|  NULL|   [\"women's music\"]|             Glimmer|       4.0|\n",
            "|  NULL|['21st century cl...|        Lux Aurumque|      45.0|\n",
            "+------+--------------------+--------------------+----------+\n",
            "only showing top 20 rows\n",
            "\n"
          ]
        }
      ]
    },
    {
      "cell_type": "code",
      "source": [
        "# Contar valores nulos en la columna \"Decade\"\n",
        "null_decade_count = spark_df.filter(col(\"Decade\").isNull()).count()\n",
        "print(f\"Cantidad de valores nulos en 'Decade': {null_decade_count}\")\n",
        "\n",
        "# Contar el total de registros\n",
        "total_count = spark_df.count()\n",
        "print(f\"Total de registros: {total_count}\")"
      ],
      "metadata": {
        "colab": {
          "base_uri": "https://localhost:8080/"
        },
        "id": "YdAdhT0eAMdS",
        "outputId": "81d53939-179c-4998-939c-b7979ec19020"
      },
      "execution_count": 98,
      "outputs": [
        {
          "output_type": "stream",
          "name": "stdout",
          "text": [
            "Cantidad de valores nulos en 'Decade': 221380\n",
            "Total de registros: 225927\n"
          ]
        }
      ]
    },
    {
      "cell_type": "code",
      "source": [
        "# Contar valores nulos en la columna \"ReleaseYear\"\n",
        "null_release_year_count = spark_df.filter(col(\"ReleaseYear\").isNull()).count()\n",
        "print(f\"Cantidad de valores nulos en 'ReleaseYear': {null_release_year_count}\")\n"
      ],
      "metadata": {
        "colab": {
          "base_uri": "https://localhost:8080/"
        },
        "id": "f1mpoYBMAUem",
        "outputId": "4f254284-653a-4457-a8d9-92ead1d02a8d"
      },
      "execution_count": 99,
      "outputs": [
        {
          "output_type": "stream",
          "name": "stdout",
          "text": [
            "Cantidad de valores nulos en 'ReleaseYear': 0\n"
          ]
        }
      ]
    },
    {
      "cell_type": "code",
      "source": [
        "# Verificar el tipo de datos de \"ReleaseYear\"\n",
        "print(spark_df.select(\"ReleaseYear\").dtypes)\n"
      ],
      "metadata": {
        "colab": {
          "base_uri": "https://localhost:8080/"
        },
        "id": "QM-QpPsyAgJB",
        "outputId": "5ec8ce86-8c0c-4226-fe7c-57b3e568d824"
      },
      "execution_count": 100,
      "outputs": [
        {
          "output_type": "stream",
          "name": "stdout",
          "text": [
            "[('ReleaseYear', 'string')]\n"
          ]
        }
      ]
    },
    {
      "source": [
        "from pyspark.sql.window import Window\n",
        "from pyspark.sql.functions import row_number, col, when, floor # Import 'floor'\n",
        "\n",
        "# Convertir \"ReleaseYear\" a entero, y manejar errores asignando None en caso de valores no numéricos\n",
        "spark_df = spark_df.withColumn(\"ReleaseYear\", col(\"ReleaseYear\").cast(\"int\"))\n",
        "\n",
        "# Calcular la columna \"Decade\" en base a \"ReleaseYear\"\n",
        "spark_df = spark_df.withColumn(\n",
        "    \"Decade\",\n",
        "    when((col(\"ReleaseYear\").isNotNull()) &\n",
        "         (col(\"ReleaseYear\") >= 1900) &\n",
        "         (col(\"ReleaseYear\") <= 2023),\n",
        "         floor(col(\"ReleaseYear\") / 10) * 10 # Use floor and division for decade calculation\n",
        "    ).otherwise(None)\n",
        ")\n",
        "\n",
        "# Contar valores nulos en \"Decade\" después de la corrección\n",
        "null_decade_count = spark_df.filter(col(\"Decade\").isNull()).count()\n",
        "print(f\"Cantidad de valores nulos en 'Decade' después de la conversión: {null_decade_count}\")"
      ],
      "cell_type": "code",
      "metadata": {
        "colab": {
          "base_uri": "https://localhost:8080/"
        },
        "id": "GjedZhV_A9Sj",
        "outputId": "9ea557ce-31be-4c51-b28c-8454e9c74521"
      },
      "execution_count": 103,
      "outputs": [
        {
          "output_type": "stream",
          "name": "stdout",
          "text": [
            "Cantidad de valores nulos en 'Decade' después de la conversión: 221381\n"
          ]
        }
      ]
    },
    {
      "cell_type": "code",
      "source": [
        "unique_release_years = spark_df.select(\"ReleaseYear\").distinct().show(truncate=False)\n"
      ],
      "metadata": {
        "colab": {
          "base_uri": "https://localhost:8080/"
        },
        "id": "GMxuOb-uBHTr",
        "outputId": "e6637a30-f8dd-4eab-e69e-7de443baa96e"
      },
      "execution_count": 104,
      "outputs": [
        {
          "output_type": "stream",
          "name": "stdout",
          "text": [
            "+-----------+\n",
            "|ReleaseYear|\n",
            "+-----------+\n",
            "|1959       |\n",
            "|1990       |\n",
            "|1975       |\n",
            "|1977       |\n",
            "|2003       |\n",
            "|2007       |\n",
            "|2018       |\n",
            "|1974       |\n",
            "|2015       |\n",
            "|1955       |\n",
            "|2006       |\n",
            "|1978       |\n",
            "|1961       |\n",
            "|2013       |\n",
            "|1956       |\n",
            "|1997       |\n",
            "|1988       |\n",
            "|1994       |\n",
            "|1968       |\n",
            "|2014       |\n",
            "+-----------+\n",
            "only showing top 20 rows\n",
            "\n"
          ]
        }
      ]
    },
    {
      "cell_type": "code",
      "source": [
        "invalid_release_years = spark_df.filter((col(\"ReleaseYear\").isNull()) | (col(\"ReleaseYear\") < 1900) | (col(\"ReleaseYear\") > 2023))\n",
        "invalid_release_years.show()\n"
      ],
      "metadata": {
        "colab": {
          "base_uri": "https://localhost:8080/"
        },
        "id": "pdG3uI9NBPnG",
        "outputId": "fc03db87-ee28-484a-d65b-7c4ce48451c4"
      },
      "execution_count": 105,
      "outputs": [
        {
          "output_type": "stream",
          "name": "stdout",
          "text": [
            "+----------+--------------------+--------------------+--------------------+-----------+--------------------+------------+------+--------+-----------+------------+----------------+--------+-------+-------+---+----+-----------+----------+----+--------------------+-----+-------+-------+------+-------------+-------+-------+------+\n",
            "|Unnamed: 0|           TrackName|             TrackID|           SampleURL|ReleaseYear|              Genres|danceability|energy|loudness|speechiness|acousticness|instrumentalness|liveness|valence|  tempo|key|mode|duration_ms|Popularity|pNum|          playlistID|label|userCat|demoCat|length|playlistTitle|  nFoll|nTracks|Decade|\n",
            "+----------+--------------------+--------------------+--------------------+-----------+--------------------+------------+------+--------+-----------+------------+----------------+--------+-------+-------+---+----+-----------+----------+----+--------------------+-----+-------+-------+------+-------------+-------+-------+------+\n",
            "|         1|            Universo|48mOMNLnlbok3W6an...|https://p.scdn.co...|       NULL|           [unknown]|      0.0697|0.0936| -22.559|     0.0459|       0.971|            0.84|    0.09| 0.0262| 76.302|  3|   1|     176953|      63.0|   1|37i9dQZF1DWYcDQ1h...| NULL|spotify|  Adult| 13h11|   Deep Sleep|1168876|    221|  NULL|\n",
            "|         2|         The Journey|77Fs2NajDBQaOOZkY...|https://p.scdn.co...|       NULL|           [unknown]|       0.165|0.0375| -30.391|     0.0446|        0.93|           0.939|  0.0855| 0.0654| 75.222|  9|   1|     157000|      65.0|   1|37i9dQZF1DWYcDQ1h...| NULL|spotify|  Adult| 13h11|   Deep Sleep|1168876|    221|  NULL|\n",
            "|         3|              always|5Nusgvqw46McIdfuq...|https://p.scdn.co...|       NULL|           [unknown]|       0.196|0.0409| -27.052|     0.0422|       0.989|           0.997|  0.0867| 0.0342| 67.264|  7|   1|     176500|      63.0|   1|37i9dQZF1DWYcDQ1h...| NULL|spotify|  Adult| 13h11|   Deep Sleep|1168876|    221|  NULL|\n",
            "|         4|Stellaristique Vi...|0MufjWQZiuRDaL2pL...|https://p.scdn.co...|       NULL|           [unknown]|        0.22| 0.162|  -22.44|     0.0332|       0.802|           0.913|   0.105|  0.039| 63.806|  1|   0|     206769|      62.0|   1|37i9dQZF1DWYcDQ1h...| NULL|spotify|  Adult| 13h11|   Deep Sleep|1168876|    221|  NULL|\n",
            "|         5|        Virga I (ii)|5dxWZlVi3k8omltMs...|https://p.scdn.co...|       NULL|['ambient', 'comp...|        0.17|  0.17| -23.001|     0.0425|       0.878|           0.742|   0.112| 0.0777|125.517|  7|   0|     246027|      63.0|   1|37i9dQZF1DWYcDQ1h...| NULL|spotify|  Adult| 13h11|   Deep Sleep|1168876|    221|  NULL|\n",
            "|         6|              Spaces|0Ycl08JD5MBn28OPz...|https://p.scdn.co...|       NULL|['background music']|        0.22|0.0514| -25.116|     0.0445|       0.986|           0.897|   0.129| 0.0358| 80.671|  7|   0|     207000|      64.0|   1|37i9dQZF1DWYcDQ1h...| NULL|spotify|  Adult| 13h11|   Deep Sleep|1168876|    221|  NULL|\n",
            "|         7|       Sea Of Colors|0vpo0LIlSsiqIWf44...|https://p.scdn.co...|       NULL|['background music']|       0.255| 0.118| -20.562|     0.0769|       0.963|           0.897|   0.101|  0.109|139.642|  6|   1|     184250|      65.0|   1|37i9dQZF1DWYcDQ1h...| NULL|spotify|  Adult| 13h11|   Deep Sleep|1168876|    221|  NULL|\n",
            "|         8|           Awakening|2prKpK6HwKDDJJ1g8...|https://p.scdn.co...|       NULL|    ['dayton indie']|       0.206| 0.396| -15.443|     0.0785|       0.752|           0.992|   0.127|  0.175| 71.234|  7|   1|     126013|      56.0|   1|37i9dQZF1DWYcDQ1h...| NULL|spotify|  Adult| 13h11|   Deep Sleep|1168876|    221|  NULL|\n",
            "|         9|          Atmosphere|6f2CmmgE9LM9MpyF5...|https://p.scdn.co...|       NULL|           [unknown]|      0.0954|0.0847| -26.166|     0.0456|       0.969|           0.887|  0.0826| 0.0356|164.752|  0|   1|      68040|      57.0|   1|37i9dQZF1DWYcDQ1h...| NULL|spotify|  Adult| 13h11|   Deep Sleep|1168876|    221|  NULL|\n",
            "|        10|               Trayi|3u9BK8XIFDSrzIePb...|https://p.scdn.co...|       NULL|['background music']|       0.245| 0.111| -21.718|     0.0415|       0.985|            0.93|   0.107| 0.0545| 83.264| 11|   1|     205000|      64.0|   1|37i9dQZF1DWYcDQ1h...| NULL|spotify|  Adult| 13h11|   Deep Sleep|1168876|    221|  NULL|\n",
            "|        11|      Heavenly Harps|1GfdC8GouQqL0RKKz...|https://p.scdn.co...|       NULL|           [unknown]|       0.207|0.0537| -26.829|      0.043|       0.993|           0.953|  0.0991| 0.0325| 68.227|  0|   1|     184714|      64.0|   1|37i9dQZF1DWYcDQ1h...| NULL|spotify|  Adult| 13h11|   Deep Sleep|1168876|    221|  NULL|\n",
            "|        12|Trpělivost růže p...|5NDJhWYEfJbARTnly...|https://p.scdn.co...|       NULL|           [unknown]|       0.124|0.0399| -29.689|     0.0721|       0.992|           0.894|    0.18| 0.0928| 73.366|  6|   0|     237500|      67.0|   1|37i9dQZF1DWYcDQ1h...| NULL|spotify|  Adult| 13h11|   Deep Sleep|1168876|    221|  NULL|\n",
            "|        13|              Cygnus|2owY4AO2poaINGx54...|https://p.scdn.co...|       NULL|           [unknown]|       0.162| 0.123| -25.743|     0.0458|       0.922|           0.797|  0.0878| 0.0434|130.583|  2|   1|     264000|      63.0|   1|37i9dQZF1DWYcDQ1h...| NULL|spotify|  Adult| 13h11|   Deep Sleep|1168876|    221|  NULL|\n",
            "|        14|           Szundikál|7wMtecN31PghxCJGv...|https://p.scdn.co...|       NULL|           [unknown]|       0.141|0.0353| -31.019|      0.113|       0.993|           0.779|  0.0865|  0.111|173.056|  4|   0|     269750|      64.0|   1|37i9dQZF1DWYcDQ1h...| NULL|spotify|  Adult| 13h11|   Deep Sleep|1168876|    221|  NULL|\n",
            "|        15|            Ethereal|0e3Pzob0dTYuUoZTs...|https://p.scdn.co...|       NULL|     ['chill beats']|       0.144|0.0446| -31.839|     0.0376|       0.947|           0.723|   0.123| 0.0315|139.469|  6|   0|     152237|      61.0|   1|37i9dQZF1DWYcDQ1h...| NULL|spotify|  Adult| 13h11|   Deep Sleep|1168876|    221|  NULL|\n",
            "|        16|      No Matter What|6nKvfKAVpGlyzXcKc...|https://p.scdn.co...|       NULL|           [unknown]|      0.0623|0.0403| -29.219|     0.0527|       0.974|           0.962|  0.0909| 0.0359| 62.484|  9|   1|     194625|      59.0|   1|37i9dQZF1DWYcDQ1h...| NULL|spotify|  Adult| 13h11|   Deep Sleep|1168876|    221|  NULL|\n",
            "|        17|    Floating Feeling|3ooPRHWIWpXO46k45...|https://p.scdn.co...|       NULL|           [unknown]|       0.122| 0.213| -21.293|     0.0475|        0.92|           0.944|    0.11|  0.079|176.489|  0|   1|     189750|      59.0|   1|37i9dQZF1DWYcDQ1h...| NULL|spotify|  Adult| 13h11|   Deep Sleep|1168876|    221|  NULL|\n",
            "|        18|            drifting|6modbrrro6DfCp4MG...|https://p.scdn.co...|       NULL|           [unknown]|       0.202|0.0269| -31.439|     0.0462|       0.989|           0.956|  0.0733| 0.0478|140.367|  7|   1|     200000|      60.0|   1|37i9dQZF1DWYcDQ1h...| NULL|spotify|  Adult| 13h11|   Deep Sleep|1168876|    221|  NULL|\n",
            "|        19|       Love Yourself|65Yi5Oliqp3s8CT2n...|https://p.scdn.co...|       NULL|['background music']|       0.192| 0.196| -21.235|     0.0395|        0.73|           0.938|  0.0983| 0.0377| 72.887|  9|   1|     166452|      59.0|   1|37i9dQZF1DWYcDQ1h...| NULL|spotify|  Adult| 13h11|   Deep Sleep|1168876|    221|  NULL|\n",
            "|        20|            Divinity|7GgdmGbHbFzgMGcGM...|https://p.scdn.co...|       NULL|           [unknown]|      0.0829|0.0695| -21.732|     0.0448|       0.947|           0.953|   0.107| 0.0375| 75.482|  2|   0|     224000|      58.0|   1|37i9dQZF1DWYcDQ1h...| NULL|spotify|  Adult| 13h11|   Deep Sleep|1168876|    221|  NULL|\n",
            "+----------+--------------------+--------------------+--------------------+-----------+--------------------+------------+------+--------+-----------+------------+----------------+--------+-------+-------+---+----+-----------+----------+----+--------------------+-----+-------+-------+------+-------------+-------+-------+------+\n",
            "only showing top 20 rows\n",
            "\n"
          ]
        }
      ]
    }
  ]
}
